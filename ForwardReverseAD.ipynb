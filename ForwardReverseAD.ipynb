{
 "cells": [
  {
   "cell_type": "code",
   "execution_count": 2,
   "metadata": {},
   "outputs": [],
   "source": [
    "# TODO: Dodać komentarze do kodu i zrobić jego refactor\n",
    "# W przód\n",
    "struct Dual{T <:Number} <:Number\n",
    "    v::T\n",
    "    dv::T\n",
    "end"
   ]
  },
  {
   "cell_type": "code",
   "execution_count": 3,
   "metadata": {},
   "outputs": [],
   "source": [
    "import Base: +, -, *, /\n",
    "     -(x::Dual) = Dual(-x.v, -x.dv)\n",
    "     +(x::Dual, y::Dual) = Dual( x.v + y.v, x.dv + y.dv)\n",
    "     -(x::Dual, y::Dual) = Dual( x.v - y.v, x.dv - y.dv)\n",
    "     *(x::Dual, y::Dual) = Dual( x.v * y.v, x.dv * y.v + x.v * y.dv)\n",
    "     /(x::Dual, y::Dual) = Dual( x.v / y.v, (x.dv * y.v - x.v * y.dv)/y.v^2)\n",
    "import Base: abs, sin, cos, tan, exp, sqrt, isless\n",
    "    abs(x::Dual) = Dual(abs(x.v),sign(x.v)*x.dv)\n",
    "    sin(x::Dual) = Dual(sin(x.v), cos(x.v)*x.dv)\n",
    "    cos(x::Dual) = Dual(cos(x.v),-sin(x.v)*x.dv)\n",
    "    tan(x::Dual) = Dual(tan(x.v), one(x.v)*x.dv + tan(x.v)^2*x.dv)\n",
    "    exp(x::Dual) = Dual(exp(x.v), exp(x.v)*x.dv)\n",
    "    sqrt(x::Dual) = Dual(sqrt(x.v),.5/sqrt(x.v) * x.dv)\n",
    "    isless(x::Dual, y::Dual) = x.v < y.v;"
   ]
  },
  {
   "cell_type": "code",
   "execution_count": 4,
   "metadata": {},
   "outputs": [],
   "source": [
    "import Base: show\n",
    "show(io::IO, x::Dual) = print(io, \"(\", x.v, \") + [\", x.dv, \"ϵ]\");\n",
    "value(x::Dual) = x.v;\n",
    "partials(x::Dual) = x.dv;"
   ]
  },
  {
   "cell_type": "code",
   "execution_count": 6,
   "metadata": {},
   "outputs": [
    {
     "data": {
      "text/plain": [
       "promote_rule (generic function with 125 methods)"
      ]
     },
     "execution_count": 6,
     "metadata": {},
     "output_type": "execute_result"
    }
   ],
   "source": [
    "import Base: convert, promote_rule\n",
    "convert(::Type{Dual{T}}, x::Dual) where T =\n",
    " Dual(convert(T, x.v), convert(T, x.dv))\n",
    "convert(::Type{Dual{T}}, x::Number) where T =\n",
    " Dual(convert(T, x), zero(T))\n",
    "promote_rule(::Type{Dual{T}}, ::Type{R}) where {T,R} =\n",
    " Dual{promote_type(T,R)}"
   ]
  },
  {
   "cell_type": "code",
   "execution_count": 8,
   "metadata": {},
   "outputs": [
    {
     "data": {
      "text/plain": [
       "(-0.13235175009777303) + [9.912028118634735ϵ]"
      ]
     },
     "execution_count": 8,
     "metadata": {},
     "output_type": "execute_result"
    }
   ],
   "source": [
    "# TODO: Przetestować dla funkcji ReLU, soft-max, podstawowych funkcji matematycznych\n",
    "f(x) = sin(x*x)\n",
    "ϵ = Dual(0., 1.)\n",
    "x = 5.0 + ϵ\n",
    "y = f(x)"
   ]
  },
  {
   "cell_type": "code",
   "execution_count": 9,
   "metadata": {},
   "outputs": [
    {
     "data": {
      "text/plain": [
       "(-0.13235175009777303, 9.912028118634735)"
      ]
     },
     "execution_count": 9,
     "metadata": {},
     "output_type": "execute_result"
    }
   ],
   "source": [
    "sin(25.0), 10cos(25.0)"
   ]
  },
  {
   "cell_type": "code",
   "execution_count": 11,
   "metadata": {},
   "outputs": [
    {
     "data": {
      "text/plain": [
       "jacobian (generic function with 1 method)"
      ]
     },
     "execution_count": 11,
     "metadata": {},
     "output_type": "execute_result"
    }
   ],
   "source": [
    "# TODO: Ogarnąć wyznaczenie macierzy jakobiego\n",
    "J = function jacobian(f, args::Vector{T}) where {T <:Number}\n",
    "    jacobian_columns = Matrix{T}[]\n",
    "    for i=1:length(args)\n",
    "        x = Dual{T}[]\n",
    "        for j=1:length(args)\n",
    "            seed = (i == j)\n",
    "            push!(x, seed ?\n",
    "            Dual(args[j], one(args[j])) :\n",
    "            Dual(args[j],zero(args[j])) )\n",
    "        end\n",
    "        column = partials.([f(x)...])\n",
    "        push!(jacobian_columns, column[:,:])\n",
    "    end\n",
    "    hcat(jacobian_columns...)\n",
    "end"
   ]
  },
  {
   "cell_type": "code",
   "execution_count": null,
   "metadata": {},
   "outputs": [],
   "source": [
    "# TODO: potestować metodę (w tym dla funkcji Rosenbrocka), zapisać wyniki"
   ]
  },
  {
   "cell_type": "code",
   "execution_count": 13,
   "metadata": {},
   "outputs": [],
   "source": [
    "# w tył\n",
    "# TODO: Zaimplementować Operator, naprawić resztę błędów w rózniczkowaniu w tył\n",
    "abstract type Node end\n",
    "abstract type LeafNode <: Node end\n",
    "\n",
    "mutable struct Variable{T} <: LeafNode\n",
    "     value::T\n",
    "     grad::T\n",
    "end\n",
    "\n",
    "struct ComputableNode{OT, AT} <: Node\n",
    "     op::OT\n",
    "     args::AT\n",
    "end\n",
    "\n",
    "mutable struct CachedNode{NT, OUT} <: Node\n",
    "     node::NT\n",
    "     out::OUT\n",
    "end"
   ]
  },
  {
   "cell_type": "code",
   "execution_count": 19,
   "metadata": {},
   "outputs": [
    {
     "ename": "LoadError",
     "evalue": "MethodError: no method matching forward(::Variable{Float64})\n\u001b[0mClosest candidates are:\n\u001b[0m  forward(\u001b[91m::CachedNode\u001b[39m) at In[17]:1\n\u001b[0m  forward(\u001b[91m::ComputableNode\u001b[39m) at In[17]:2",
     "output_type": "error",
     "traceback": [
      "MethodError: no method matching forward(::Variable{Float64})\n\u001b[0mClosest candidates are:\n\u001b[0m  forward(\u001b[91m::CachedNode\u001b[39m) at In[17]:1\n\u001b[0m  forward(\u001b[91m::ComputableNode\u001b[39m) at In[17]:2",
      "",
      "Stacktrace:",
      " [1] map",
      "   @ .\\tuple.jl:214 [inlined]",
      " [2] forward(node::ComputableNode{typeof(*), Tuple{Variable{Float64}, Variable{Float64}}})",
      "   @ Main .\\In[17]:2",
      " [3] register(::Function, ::Variable{Float64}, ::Vararg{Variable{Float64}, N} where N)",
      "   @ Main .\\In[15]:3",
      " [4] *",
      "   @ .\\In[15]:9 [inlined]",
      " [5] f(x::Variable{Float64})",
      "   @ Main .\\In[19]:1",
      " [6] top-level scope",
      "   @ In[19]:3",
      " [7] eval",
      "   @ .\\boot.jl:360 [inlined]",
      " [8] include_string(mapexpr::typeof(REPL.softscope), mod::Module, code::String, filename::String)",
      "   @ Base .\\loading.jl:1094"
     ]
    }
   ],
   "source": [
    "# TODO: Przetestować dla funkcji ReLU, soft-max, podstawowych funkcji matematycznych\n",
    "f(x) = sin(x*x)\n",
    "x = Variable(5.0, 0.0)\n",
    "y = f(x)"
   ]
  },
  {
   "cell_type": "code",
   "execution_count": 22,
   "metadata": {},
   "outputs": [
    {
     "data": {
      "text/plain": [
       "sin (generic function with 15 methods)"
      ]
     },
     "execution_count": 22,
     "metadata": {},
     "output_type": "execute_result"
    }
   ],
   "source": [
    "# TODO: Dodać więcej przeciążeń\n",
    "function register(op, args...)\n",
    "     node = ComputableNode(op, args)\n",
    "     out = forward(node)\n",
    "     CachedNode(node, out)\n",
    "end\n",
    "\n",
    "import Base: +, -, *, /\n",
    "     +(x::Node, y::Node) = register(+, x, y)\n",
    "     -(x::Node, y::Node) = register(-, x, y)\n",
    "     *(x::Node, y::Node) = register(*, x, y)\n",
    "     /(x::Node, y::Node) = register(/, x, y)\n",
    "import Base: sin\n",
    "    sin(x::Node) = register(sin, x)"
   ]
  },
  {
   "cell_type": "code",
   "execution_count": 23,
   "metadata": {},
   "outputs": [
    {
     "ename": "LoadError",
     "evalue": "UndefVarError: Operator not defined",
     "output_type": "error",
     "traceback": [
      "UndefVarError: Operator not defined",
      "",
      "Stacktrace:",
      " [1] top-level scope",
      "   @ In[23]:3",
      " [2] eval",
      "   @ .\\boot.jl:360 [inlined]",
      " [3] include_string(mapexpr::typeof(REPL.softscope), mod::Module, code::String, filename::String)",
      "   @ Base .\\loading.jl:1094"
     ]
    }
   ],
   "source": [
    "forward(cached::CachedNode) = cached.out = forward(cached.node)\n",
    "forward(node::ComputableNode) = forward(node.op, map(forward, node.args)...)\n",
    "forward(op::Operator, args...) = op.f(args...; kwargs...)\n",
    "forward(var::Variable) = var.value"
   ]
  },
  {
   "cell_type": "code",
   "execution_count": 24,
   "metadata": {},
   "outputs": [
    {
     "ename": "LoadError",
     "evalue": "UndefVarError: Operator not defined",
     "output_type": "error",
     "traceback": [
      "UndefVarError: Operator not defined",
      "",
      "Stacktrace:",
      " [1] top-level scope",
      "   @ In[24]:11",
      " [2] eval",
      "   @ .\\boot.jl:360 [inlined]",
      " [3] include_string(mapexpr::typeof(REPL.softscope), mod::Module, code::String, filename::String)",
      "   @ Base .\\loading.jl:1094"
     ]
    }
   ],
   "source": [
    "function backward(cached::CachedNode, grad)\n",
    "     grad_inputs = gradient(cached, grad)\n",
    "     for (each, each_grad) in zip(cached.node.args, grad_inputs)\n",
    "         backward(each, each_grad)\n",
    "     end\n",
    "end\n",
    "\n",
    "gradient(cached::CachedNode, grad) =\n",
    "     gradient(cached.node.op, grad, map(value, cached.node.args)...)\n",
    "\n",
    "gradient(op::Operator, grad, args...) =\n",
    "     gradient(op.f, grad, args...)\n",
    "\n",
    "value(cached::CachedNode) = value(cached.out)\n",
    "value(var::Variable) = var.value\n",
    "\n",
    "gradient(::typeof(*), grad, x, y) = (grad * y, grad * x)\n",
    "gradient(::typeof(sin), grad, x) = (grad * cos(x), )\n",
    "\n",
    "function backward(var::Variable, grad)\n",
    "     var.grad += grad\n",
    "end"
   ]
  },
  {
   "cell_type": "code",
   "execution_count": null,
   "metadata": {},
   "outputs": [],
   "source": [
    "#TODO: macierze Jakobiego dla różniczkowania w tył"
   ]
  },
  {
   "cell_type": "code",
   "execution_count": null,
   "metadata": {},
   "outputs": [],
   "source": [
    "# TODO: potestować metodę (w tym dla funkcji Rosenbrocka), zapisać wyniki"
   ]
  },
  {
   "cell_type": "code",
   "execution_count": null,
   "metadata": {},
   "outputs": [],
   "source": [
    "# TODO: Zrobić krótkie zestawienie metod"
   ]
  }
 ],
 "metadata": {
  "kernelspec": {
   "display_name": "Julia 1.6.1",
   "language": "julia",
   "name": "julia-1.6"
  },
  "language_info": {
   "file_extension": ".jl",
   "mimetype": "application/julia",
   "name": "julia",
   "version": "1.6.1"
  }
 },
 "nbformat": 4,
 "nbformat_minor": 4
}
