{
 "cells": [
  {
   "cell_type": "code",
   "execution_count": 2,
   "metadata": {},
   "outputs": [],
   "source": [
    "# TODO: Dodać komentarze do kodu i zrobić jego refactor\n",
    "# W przód\n",
    "struct Dual{T <:Number} <:Number\n",
    "    v::T\n",
    "    dv::T\n",
    "end"
   ]
  },
  {
   "cell_type": "code",
   "execution_count": 3,
   "metadata": {},
   "outputs": [],
   "source": [
    "import Base: +, -, *, /\n",
    "     -(x::Dual) = Dual(-x.v, -x.dv)\n",
    "     +(x::Dual, y::Dual) = Dual( x.v + y.v, x.dv + y.dv)\n",
    "     -(x::Dual, y::Dual) = Dual( x.v - y.v, x.dv - y.dv)\n",
    "     *(x::Dual, y::Dual) = Dual( x.v * y.v, x.dv * y.v + x.v * y.dv)\n",
    "     /(x::Dual, y::Dual) = Dual( x.v / y.v, (x.dv * y.v - x.v * y.dv)/y.v^2)\n",
    " \n",
    "import Base: abs, sin, cos, tan, exp, sqrt, isless\n",
    "    abs(x::Dual) = Dual(abs(x.v),sign(x.v)*x.dv)\n",
    "    sin(x::Dual) = Dual(sin(x.v), cos(x.v)*x.dv)\n",
    "    cos(x::Dual) = Dual(cos(x.v),-sin(x.v)*x.dv)\n",
    "    tan(x::Dual) = Dual(tan(x.v), one(x.v)*x.dv + tan(x.v)^2*x.dv)\n",
    "    exp(x::Dual) = Dual(exp(x.v), exp(x.v)*x.dv)\n",
    "    sqrt(x::Dual) = Dual(sqrt(x.v),.5/sqrt(x.v) * x.dv)\n",
    "    isless(x::Dual, y::Dual) = x.v < y.v;"
   ]
  },
  {
   "cell_type": "code",
   "execution_count": 4,
   "metadata": {},
   "outputs": [],
   "source": [
    "import Base: show\n",
    "show(io::IO, x::Dual) = print(io, \"(\", x.v, \") + [\", x.dv, \"ϵ]\");\n",
    "value(x::Dual) = x.v;\n",
    "partials(x::Dual) = x.dv;"
   ]
  },
  {
   "cell_type": "code",
   "execution_count": 5,
   "metadata": {},
   "outputs": [
    {
     "data": {
      "text/plain": [
       "promote_rule (generic function with 125 methods)"
      ]
     },
     "execution_count": 5,
     "metadata": {},
     "output_type": "execute_result"
    }
   ],
   "source": [
    "import Base: convert, promote_rule\n",
    "convert(::Type{Dual{T}}, x::Dual) where T =\n",
    " Dual(convert(T, x.v), convert(T, x.dv))\n",
    "convert(::Type{Dual{T}}, x::Number) where T =\n",
    " Dual(convert(T, x), zero(T))\n",
    "promote_rule(::Type{Dual{T}}, ::Type{R}) where {T,R} =\n",
    " Dual{promote_type(T,R)}"
   ]
  },
  {
   "cell_type": "markdown",
   "metadata": {},
   "source": [
    "# Wyliczenie gradientu funkcji jednej zmiennej "
   ]
  },
  {
   "cell_type": "code",
   "execution_count": 8,
   "metadata": {},
   "outputs": [
    {
     "name": "stdout",
     "output_type": "stream",
     "text": [
      "  69.395 ns (1 allocation: 32 bytes)\n",
      "2.8284271247461903\n",
      "  599.994 ns (4 allocations: 256 bytes)\n"
     ]
    },
    {
     "data": {
      "text/plain": [
       "1-element Array{Float64,1}:\n",
       " 2.8284271247461903"
      ]
     },
     "execution_count": 8,
     "metadata": {},
     "output_type": "execute_result"
    }
   ],
   "source": [
    "#using Pkg\n",
    "#Pkg.add(\"BenchmarkTools\")\n",
    "using BenchmarkTools\n",
    "\n",
    "f(x) = 2*sin(2x)         #2sin(2x)\n",
    "ϵ = Dual(0., 1.)\n",
    "x = pi/8 + ϵ\n",
    "\n",
    "@btime begin\n",
    "y = f(x)\n",
    "end\n",
    "println(partials(y))    #część liczby dualnej odpowiadająca pochodnej\n",
    "\n",
    "using ForwardDiff\n",
    "fun(x) = 2sin(2x[1])    #2sin(2x)\n",
    "x = [pi/8]\n",
    "@btime begin\n",
    "ForwardDiff.gradient(fun,x);\n",
    "end\n"
   ]
  },
  {
   "cell_type": "markdown",
   "metadata": {},
   "source": [
    "## Funkcja obliczająca macierz Jacobiego "
   ]
  },
  {
   "cell_type": "code",
   "execution_count": 20,
   "metadata": {},
   "outputs": [
    {
     "data": {
      "text/plain": [
       "jacobian (generic function with 1 method)"
      ]
     },
     "execution_count": 20,
     "metadata": {},
     "output_type": "execute_result"
    }
   ],
   "source": [
    "# TODO: Ogarnąć wyznaczenie macierzy jakobiego\n",
    "J = function jacobian(f, args::Vector{T}) where {T <:Number} # przyjmuje funkcje oraz wektor argumentów\n",
    "    jacobian_columns = Matrix{T}[] \n",
    "    for i=1:length(args)\n",
    "        x = Dual{T}[]                       # tworzy nowy wektor x dla liczb dualnych\n",
    "        \n",
    "        for j=1:length(args)\n",
    "            seed = (i == j)\n",
    "            \n",
    "            push!(x, seed ?                \n",
    "            Dual(args[j], one(args[j])) :   #dodaje do wektora x liczbe dualną w zależności od wartości seed                                             \n",
    "            Dual(args[j],zero(args[j])) )   #if seed == true to dodaje liczbe z epsilonem w przeciwnym wypadku bez \n",
    "            \n",
    "            #println(\"x to = \",x)\n",
    "            #println(\"iteracja i = \",i,\" j = \",j)\n",
    "            \n",
    "        end\n",
    "        #println(f(x))\n",
    "        column = partials.([f(x)...])       #tworzy wektor pochodnych        \n",
    "        push!(jacobian_columns, column[:,:]) #i dodaje do macierzy wynikowej\n",
    "\n",
    "        \n",
    "    end\n",
    "    hcat(jacobian_columns...)           # zamienia w macierz układając zbiór wektorów w kolumny \n",
    "    \n",
    "end"
   ]
  },
  {
   "cell_type": "markdown",
   "metadata": {},
   "source": [
    "# Obliczenie macierzy Jacobiego dla różnych funkcji"
   ]
  },
  {
   "cell_type": "code",
   "execution_count": 26,
   "metadata": {},
   "outputs": [
    {
     "name": "stdout",
     "output_type": "stream",
     "text": [
      "Czas dla funkcji jacobian\n",
      "  3.313 μs (43 allocations: 3.11 KiB)\n"
     ]
    },
    {
     "data": {
      "text/plain": [
       "3×3 Array{Float64,2}:\n",
       "  0.210243  -0.09987   -0.110373\n",
       " -0.09987    0.221852  -0.121982\n",
       " -0.110373  -0.121982   0.232355"
      ]
     },
     "execution_count": 118,
     "metadata": {},
     "output_type": "execute_result"
    }
   ],
   "source": [
    "#σ(x) =  one(x)/(one(x)+exp(-x))\n",
    "f(x::Vector) = [2x[1]+(x[2]^2)+x[3]]    #2x+(y²+z)\n",
    "\n",
    "ReLu(x) = max(zero(x),x)\n",
    "\n",
    "P(x::Vector) = [(x[1]^2)+(x[1]*(x[2]^3)),x[1]*x[2]+1]   #[x²+(xy³) , xy+1] wektor 2 funkcji\n",
    "\n",
    "R(x::Vector) = [2/x[1], x[1]*x[2],x[1]+x[2]]        # [2/x, xy, x+y] wektor 3 funkcji\n",
    "\n",
    "softmaxx(x) = exp.(x) ./ sum(exp.(x));\n",
    "\n",
    "#J(F, [2.,3.,4.])\n",
    "\n",
    "println(\"Czas dla funkcji jacobian\")\n",
    "@btime begin\n",
    "J(softmaxx, [0.1,0.2,0.3])                                 #Wyznaczenie Macierzy Jacobiego \n",
    "end\n"
   ]
  },
  {
   "cell_type": "code",
   "execution_count": 119,
   "metadata": {},
   "outputs": [
    {
     "name": "stdout",
     "output_type": "stream",
     "text": [
      "Czas dla ForwardDIff\n",
      "  729.839 ns (7 allocations: 992 bytes)\n"
     ]
    },
    {
     "data": {
      "text/plain": [
       "3×3 Array{Float64,2}:\n",
       "  0.210243  -0.09987   -0.110373\n",
       " -0.09987    0.221852  -0.121982\n",
       " -0.110373  -0.121982   0.232355"
      ]
     },
     "execution_count": 119,
     "metadata": {},
     "output_type": "execute_result"
    }
   ],
   "source": [
    "println(\"Czas dla ForwardDIff\")\n",
    "@btime begin\n",
    "ForwardDiff.jacobian(softmaxx, [0.1,0.2,0.3])   \n",
    "end"
   ]
  },
  {
   "cell_type": "code",
   "execution_count": 120,
   "metadata": {},
   "outputs": [],
   "source": [
    "# TODO: potestować metodę (w tym dla funkcji Rosenbrocka), zapisać wyniki"
   ]
  },
  {
   "cell_type": "code",
   "execution_count": 2,
   "metadata": {},
   "outputs": [],
   "source": [
    "# w tył\n",
    "struct Operator{T}\n",
    "    f::T\n",
    "end\n",
    "\n",
    "abstract type Node end\n",
    "abstract type LeafNode <: Node end\n",
    "\n",
    "mutable struct Variable{T} <: LeafNode\n",
    "    value::T\n",
    "    grad::T\n",
    "    \n",
    "    Variable(val::T) where T = new{T}(val, zero(val))\n",
    "    Variable(val::T, grad::T) where T = new{T}(val, grad)\n",
    "end\n",
    "\n",
    "struct ComputableNode{OT, AT} <: Node\n",
    "    op::OT # operacja jaka będzie wykonywana na node\n",
    "    args::AT # argumenty operacji\n",
    "end\n",
    "\n",
    "mutable struct CachedNode{NT, OUT} <: Node\n",
    "    node::NT # ComputableNode\n",
    "    out::OUT # wynik operacji na zadanych argumentach w computable Node\n",
    "end"
   ]
  },
  {
   "cell_type": "code",
   "execution_count": 3,
   "metadata": {},
   "outputs": [
    {
     "data": {
      "text/plain": [
       "one (generic function with 20 methods)"
      ]
     },
     "execution_count": 3,
     "metadata": {},
     "output_type": "execute_result"
    }
   ],
   "source": [
    "# rejestracja operacji z wyrażenia wejściowego\n",
    "function register(op, args...)\n",
    "    concreteOp = Operator(op)\n",
    "    node = ComputableNode(concreteOp, args)\n",
    "    out = forward(node)\n",
    "    CachedNode(node, out)\n",
    "end\n",
    "\n",
    "import Base: +, -, *, /\n",
    "    -(x::Node) = register(-, x)\n",
    "    +(x::Node, y::Node) = register(+, x, y)\n",
    "    -(x::Node, y::Node) = register(-, x, y)\n",
    "    *(x::Node, y::Node) = register(*, x, y)\n",
    "    /(x::Node, y::Node) = register(/, x, y)\n",
    "import Base: abs, sin, cos, tan, exp, sqrt, isless, zero, one\n",
    "    abs(x::Node) = register(abs, x)\n",
    "    sin(x::Node) = register(sin, x)\n",
    "    cos(x::Node) = register(cos, x)\n",
    "    tan(x::Node) = register(tan, x)\n",
    "    exp(x::Node) = register(exp, x)\n",
    "    sqrt(x::Node) = register(sqrt, x)\n",
    "    isless(x::Node, y::Node) = register(isless, x, y)\n",
    "    zero(x::Node) = register(zero, x)\n",
    "    one(x::Node) = register(one, x)"
   ]
  },
  {
   "cell_type": "code",
   "execution_count": 4,
   "metadata": {},
   "outputs": [
    {
     "data": {
      "text/plain": [
       "forward (generic function with 4 methods)"
      ]
     },
     "execution_count": 4,
     "metadata": {},
     "output_type": "execute_result"
    }
   ],
   "source": [
    "forward(cached::CachedNode) = cached.out = forward(cached.node)\n",
    "forward(node::ComputableNode) = forward(node.op, map(forward, node.args)...) # dokonujemy mapowania funkcją forward aby dobrac się do value zmiennych variable\n",
    "forward(op::Operator, args...) = op.f(args...)  # finalne wykonanie operacji na zadanych argumentach i obliczenie wyniku\n",
    "forward(var::Variable) = var.value # wykorzystywane do mapowania"
   ]
  },
  {
   "cell_type": "code",
   "execution_count": 5,
   "metadata": {},
   "outputs": [
    {
     "data": {
      "text/plain": [
       "backward (generic function with 2 methods)"
      ]
     },
     "execution_count": 5,
     "metadata": {},
     "output_type": "execute_result"
    }
   ],
   "source": [
    "function backward(cached::CachedNode, grad)\n",
    "    grad_inputs = gradient(cached, grad)\n",
    "    for (each, each_grad) in zip(cached.node.args, grad_inputs)\n",
    "        backward(each, each_grad)\n",
    "    end\n",
    "end\n",
    "\n",
    "gradient(cached::CachedNode, grad) =\n",
    "    gradient(cached.node.op, grad, map(value, cached.node.args)...)\n",
    "\n",
    "gradient(op::Operator, grad, args...) =\n",
    "    gradient(op.f, grad, args...)\n",
    "\n",
    "value(cached::CachedNode) = cached.out\n",
    "value(var::Variable) = var.value\n",
    "\n",
    "gradient(::typeof(-), grad, x) = (-grad, )\n",
    "gradient(::typeof(+), grad, x, y) = (grad, grad)\n",
    "gradient(::typeof(-), grad, x, y) = (grad, -grad)\n",
    "gradient(::typeof(*), grad, x, y) = (grad * y, grad * x) # (pochodna po x, pochodna po y)\n",
    "gradient(::typeof(/), grad, x, y) = (grad * 1/y, grad * -(x / (y * y)))\n",
    "gradient(::typeof(abs), grad, x) = (grad * x/abs(x), ) \n",
    "gradient(::typeof(sin), grad, x) = (grad * cos(x), ) # dodajemy ',' aby cały czas to był tuple\n",
    "gradient(::typeof(cos), grad, x) = (grad * -sin(x), )\n",
    "gradient(::typeof(tan), grad, x) = (grad * (tan(x)*tan(x)+1), )\n",
    "gradient(::typeof(exp), grad, x) = (grad * exp(x), )\n",
    "gradient(::typeof(sqrt), grad, x) = (grad * 1/(2*sqrt(x)), )\n",
    "gradient(::typeof(isless), grad, x, y) = (isless(x, y) ? grad * one(x) : grad * zero(x), \n",
    "                                          isless(x, y) ? grad * zero(y) : grad * one(y))\n",
    "gradient(::typeof(zero), grad, x) = (grad * zero(x), )\n",
    "gradient(::typeof(one), grad, x) = (grad * one(x), )\n",
    "\n",
    "function backward(var::Variable, grad)\n",
    "    var.grad += grad\n",
    "    #println(var)    \n",
    "end"
   ]
  },
  {
   "cell_type": "code",
   "execution_count": 6,
   "metadata": {},
   "outputs": [
    {
     "name": "stdout",
     "output_type": "stream",
     "text": [
      "[1]\n"
     ]
    },
    {
     "ename": "LoadError",
     "evalue": "MethodError: no method matching zero(::Type{Variable{Float64}})\n\u001b[0mClosest candidates are:\n\u001b[0m  zero(\u001b[91m::Union{Type{P}, P}\u001b[39m) where P<:Dates.Period at C:\\buildbot\\worker\\package_win64\\build\\usr\\share\\julia\\stdlib\\v1.6\\Dates\\src\\periods.jl:53\n\u001b[0m  zero(\u001b[91m::AbstractIrrational\u001b[39m) at irrationals.jl:148\n\u001b[0m  zero(\u001b[91m::Node\u001b[39m) at In[3]:23\n\u001b[0m  ...",
     "output_type": "error",
     "traceback": [
      "MethodError: no method matching zero(::Type{Variable{Float64}})\n\u001b[0mClosest candidates are:\n\u001b[0m  zero(\u001b[91m::Union{Type{P}, P}\u001b[39m) where P<:Dates.Period at C:\\buildbot\\worker\\package_win64\\build\\usr\\share\\julia\\stdlib\\v1.6\\Dates\\src\\periods.jl:53\n\u001b[0m  zero(\u001b[91m::AbstractIrrational\u001b[39m) at irrationals.jl:148\n\u001b[0m  zero(\u001b[91m::Node\u001b[39m) at In[3]:23\n\u001b[0m  ...",
      "",
      "Stacktrace:",
      " [1] zero(x::Vector{Variable{Float64}})",
      "   @ Base .\\abstractarray.jl:1085",
      " [2] f(x::Vector{Variable{Float64}})",
      "   @ Main .\\In[6]:2",
      " [3] top-level scope",
      "   @ In[6]:9",
      " [4] eval",
      "   @ .\\boot.jl:360 [inlined]",
      " [5] include_string(mapexpr::typeof(REPL.softscope), mod::Module, code::String, filename::String)",
      "   @ Base .\\loading.jl:1094"
     ]
    }
   ],
   "source": [
    "# TODO: Przetestować dla funkcji ReLU, soft-max, podstawowych funkcji matematycznych\n",
    "f(x) = zero(x)\n",
    "ReLu(x) = max(zero(x),x)\n",
    "x = [1]\n",
    "println(ReLu(x))\n",
    "σ(x) =  one(x)/(one(x)+exp(-x))\n",
    "softmaxx(x) = exp.(x) ./ sum(exp.(x));\n",
    "x = [Variable(5.0, 0.0), Variable(6.0, 0.0)]\n",
    "y = f(x)\n",
    "backward(y, 1.0)\n",
    "println(y) #aby dobrać się do gradientów trzeba przejść po grafie i wyszukać gradienty"
   ]
  },
  {
   "cell_type": "code",
   "execution_count": 7,
   "metadata": {},
   "outputs": [
    {
     "ename": "LoadError",
     "evalue": "MethodError: no method matching one(::Vector{ForwardDiff.Dual{ForwardDiff.Tag{typeof(sigma), Float64}, Float64, 2}})\n\u001b[0mClosest candidates are:\n\u001b[0m  one(\u001b[91m::Union{Type{T}, T}\u001b[39m) where T<:AbstractString at strings/basic.jl:262\n\u001b[0m  one(\u001b[91m::Union{Type{P}, P}\u001b[39m) where P<:Dates.Period at C:\\buildbot\\worker\\package_win64\\build\\usr\\share\\julia\\stdlib\\v1.6\\Dates\\src\\periods.jl:54\n\u001b[0m  one(\u001b[91m::Node\u001b[39m) at In[3]:24\n\u001b[0m  ...",
     "output_type": "error",
     "traceback": [
      "MethodError: no method matching one(::Vector{ForwardDiff.Dual{ForwardDiff.Tag{typeof(sigma), Float64}, Float64, 2}})\n\u001b[0mClosest candidates are:\n\u001b[0m  one(\u001b[91m::Union{Type{T}, T}\u001b[39m) where T<:AbstractString at strings/basic.jl:262\n\u001b[0m  one(\u001b[91m::Union{Type{P}, P}\u001b[39m) where P<:Dates.Period at C:\\buildbot\\worker\\package_win64\\build\\usr\\share\\julia\\stdlib\\v1.6\\Dates\\src\\periods.jl:54\n\u001b[0m  one(\u001b[91m::Node\u001b[39m) at In[3]:24\n\u001b[0m  ...",
      "",
      "Stacktrace:",
      " [1] sigma(x::Vector{ForwardDiff.Dual{ForwardDiff.Tag{typeof(sigma), Float64}, Float64, 2}})",
      "   @ Main .\\In[7]:5",
      " [2] vector_mode_dual_eval(f::typeof(sigma), x::Vector{Float64}, cfg::ForwardDiff.JacobianConfig{ForwardDiff.Tag{typeof(sigma), Float64}, Float64, 2, Vector{ForwardDiff.Dual{ForwardDiff.Tag{typeof(sigma), Float64}, Float64, 2}}})",
      "   @ ForwardDiff C:\\Users\\Komputer\\.julia\\packages\\ForwardDiff\\QOqCN\\src\\apiutils.jl:37",
      " [3] vector_mode_jacobian(f::typeof(sigma), x::Vector{Float64}, cfg::ForwardDiff.JacobianConfig{ForwardDiff.Tag{typeof(sigma), Float64}, Float64, 2, Vector{ForwardDiff.Dual{ForwardDiff.Tag{typeof(sigma), Float64}, Float64, 2}}})",
      "   @ ForwardDiff C:\\Users\\Komputer\\.julia\\packages\\ForwardDiff\\QOqCN\\src\\jacobian.jl:147",
      " [4] jacobian(f::Function, x::Vector{Float64}, cfg::ForwardDiff.JacobianConfig{ForwardDiff.Tag{typeof(sigma), Float64}, Float64, 2, Vector{ForwardDiff.Dual{ForwardDiff.Tag{typeof(sigma), Float64}, Float64, 2}}}, ::Val{true})",
      "   @ ForwardDiff C:\\Users\\Komputer\\.julia\\packages\\ForwardDiff\\QOqCN\\src\\jacobian.jl:21",
      " [5] jacobian(f::Function, x::Vector{Float64}, cfg::ForwardDiff.JacobianConfig{ForwardDiff.Tag{typeof(sigma), Float64}, Float64, 2, Vector{ForwardDiff.Dual{ForwardDiff.Tag{typeof(sigma), Float64}, Float64, 2}}}) (repeats 2 times)",
      "   @ ForwardDiff C:\\Users\\Komputer\\.julia\\packages\\ForwardDiff\\QOqCN\\src\\jacobian.jl:19",
      " [6] top-level scope",
      "   @ show.jl:955",
      " [7] eval",
      "   @ .\\boot.jl:360 [inlined]",
      " [8] include_string(mapexpr::typeof(REPL.softscope), mod::Module, code::String, filename::String)",
      "   @ Base .\\loading.jl:1094"
     ]
    },
    {
     "data": {
      "text/plain": [
       "1-element Array{Float64,1}:\n",
       " 9.912028118634735"
      ]
     },
     "execution_count": 126,
     "metadata": {},
     "output_type": "execute_result"
    }
   ],
   "source": [
    "# checking results\n",
    "using ForwardDiff\n",
    "h(x) = sin(x[1]*x[2])\n",
    "ReLu(x) = max(zero(x),x)\n",
    "sigma(x) =  one(x)/(one(x)+exp(-x))\n",
    "softmaxx(x) = exp.(x) ./ sum(exp.(x));\n",
    "x = [5.0, 6.0]\n",
    "@show ForwardDiff.jacobian(sigma,x)"
   ]
  },
  {
   "cell_type": "code",
   "execution_count": 127,
   "metadata": {},
   "outputs": [
    {
     "name": "stdout",
     "output_type": "stream",
     "text": [
      "ForwardDiff.gradient(h, x) = [26.354764961030977 16.663053156992284]\n"
     ]
    },
    {
     "data": {
      "text/plain": [
       "1×5 Array{Float64,2}:\n",
       " 2.0  1.69049  1.0  0.0  0.0"
      ]
     },
     "execution_count": 127,
     "metadata": {},
     "output_type": "execute_result"
    }
   ],
   "source": [
    "# EXAMPLE OF USING JULIA DIFF\n",
    "using ForwardDiff\n",
    "h(x) = sin(x[1]) + x[1] * x[2] + sinh(x[1] * x[2]) # multivariate.\n",
    "x = [1.4 2.2]\n",
    "@show ForwardDiff.gradient(h,x) # use AD, seeds from x\n",
    "\n",
    "#Or, can use complicated functions of many variables\n",
    "f(x) = sum(sin, x) + prod(tan, x) * sum(sqrt, x)\n",
    "g = (x) -> ForwardDiff.jacobian(f, x); # g() is now the gradient\n",
    "g(rand(5)) # gradient at a random point\n",
    "# ForwardDiff.hessian(f,x') # or the hessian"
   ]
  },
  {
   "cell_type": "code",
   "execution_count": null,
   "metadata": {},
   "outputs": [],
   "source": [
    "#TODO: macierze Jakobiego dla różniczkowania w tył"
   ]
  },
  {
   "cell_type": "code",
   "execution_count": null,
   "metadata": {},
   "outputs": [],
   "source": [
    "# TODO: potestować metodę (w tym dla funkcji Rosenbrocka), zapisać wyniki"
   ]
  },
  {
   "cell_type": "code",
   "execution_count": 130,
   "metadata": {},
   "outputs": [],
   "source": [
    "# TODO: Zrobić krótkie zestawienie metod"
   ]
  }
 ],
 "metadata": {
  "kernelspec": {
   "display_name": "Julia 1.6.1",
   "language": "julia",
   "name": "julia-1.6"
  },
  "language_info": {
   "file_extension": ".jl",
   "mimetype": "application/julia",
   "name": "julia",
   "version": "1.6.1"
  }
 },
 "nbformat": 4,
 "nbformat_minor": 4
}
