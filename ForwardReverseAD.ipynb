{
 "cells": [
  {
   "cell_type": "markdown",
   "metadata": {},
   "source": [
    "## Przykładowe funkcje i parametry i wykorzystywane paczki"
   ]
  },
  {
   "cell_type": "code",
   "execution_count": 2,
   "metadata": {},
   "outputs": [],
   "source": [
    "# wykorzystane funkcje\n",
    "f(x) = sin.(x) .* sqrt.(x)\n",
    "ReLu(x) = max.(zero.(x),x)\n",
    "σ(x) = one.(x)./(one.(x).+exp.(-x))\n",
    "softmax(x) = exp.(x) ./ sum(exp.(x))\n",
    "\n",
    "# parametry funkcji\n",
    "x1 = rand(Float64, 10);\n",
    "x2 = rand(Float64, 100);\n",
    "\n",
    "# dane do uczenia i testowania sieci\n",
    "x = [[0.072825354;0.006012024;0.092842843;1;0.307692308;0.727272727],[0.008091706;0.248496994;0.499499499;0.125;0.153846154;0.181818182],[0.008091706;0.248496994;0.499499499;0.125;0.153846154;0.181818182],[0.008091706;0.248496994;0.499499499;0.125;0.153846154;0.181818182],[0.008091706;0.248496994;0.249249249;0.125;0.153846154;0.090909091],[0.00606878;0.248496994;0.499499499;0.25;0.153846154;0.181818182],[0.004045853;0.498997996;0.499499499;0.25;0.307692308;0.181818182],[0.004045853;0.498997996;0.499499499;0.25;0.307692308;0.181818182],[0.004045853;0.498997996;1;0.25;0.307692308;0.181818182],[0.004045853;1;1;0.5;0.615384615;0.363636364],[0.258260283;0.029308617;0.045920921;0;0.019230769;0.011363636],[0.258260283;0.014028056;0.053741241;0.015625;0.019230769;0.034090909],[0.02899528;0.060621242;0.124124124;0.25390625;0.019230769;0.045454545],[0.022252192;0.123246493;0.249249249;0.25390625;0.019230769;0.045454545],[0.224544842;0;0;0;0.019230769;0.022727273],[0.123398517;0.014028056;0.249249249;0;0.076923077;0.181818182],[0.101146325;0.014403808;0.03028028;0.03125;0.076923077;0.085227273],[0.084962913;0.014028056;0.077202202;0;0.134615385;0.181818182],[0.084962913;0.029308617;0.03028028;0;0.096153846;0.090909091],[0.062710722;0.154559118;0.077202202;0.5546875;0.153846154;0.363636364],[0.084962913;0.04496493;0.097535035;0;0.096153846;0.181818182],[0.084962913;0.09506513;0.095970971;0;0.096153846;0.113636364],[0.084962913;0.07001503;0.095970971;0;0.115384615;0.363636364],[0.062710722;0.09506513;0.095970971;0;0.115384615;0.363636364],[0.204315577;0.002004008;0.092842843;0;0.019230769;0.068181818],[0.204315577;0.014028056;0.03028028;0.015625;0.019230769;0.017045455],[0.204315577;0.006012024;0.092842843;0;0.019230769;0.034090909],[0.204315577;0.006012024;0.045920921;0.015625;0.019230769;0.017045455],[0.204315577;0.014028056;0.077202202;0.015625;0.019230769;0.028409091],[0.204315577;0.006012024;0.077202202;0.015625;0.019230769;0.034090909],[0.005394471;0.039015531;0.039977477;0.51171875;0.230769231;0.136363636],[0.005394471;0.039015531;0.039977477;0.51171875;0.230769231;0.136363636],[0.022252192;0.08003507;0.162912913;0.1171875;0.230769231;0.136363636],[0.022252192;0.08003507;0.162912913;0.1171875;0.230769231;0.136363636],[0.026298045;0.162074148;0.326983233;0.1171875;0.230769231;0.136363636],[0.031692515;0.162074148;0.326983233;0.1171875;0.230769231;0.136363636],[0.022252192;0.013652305;0.03028028;0.03125;0.019230769;0.022727273],[0.022252192;0.029308617;0.061561562;0.03125;0.019230769;0.028409091],[0.022252192;0.060621242;0.124124124;0.03125;0.019230769;0.028409091],[0.022252192;0.029308617;0.061561562;0.03125;0.057692308;0.028409091],[0.022252192;0.029308617;0.124124124;0.03125;0.057692308;0.028409091],[0.022252192;0.060621242;0.249249249;0.03125;0.057692308;0.028409091],[0.022252192;0.060621242;0.249249249;0.03125;0.057692308;0.034090909],[0.022252192;0.060621242;0.249249249;0.03125;0.057692308;0.034090909],[0.078219825;0.029308617;0.186686687;0.03515625;0.057692308;0.068181818],[0.078219825;0.029308617;0.124124124;0.03515625;0.057692308;0.068181818],[0.534726905;0.014028056;0.007007007;0.03125;0.019230769;0.005681818],[0.534726905;0.029308617;0.077202202;0;0.019230769;0.005681818],[0.204315577;0.014028056;0.124124124;0.015625;0.019230769;0.028409091],[0.123398517;0.014028056;0.124124124;0.03125;0.019230769;0.045454545],[0.460552933;0.01002004;0.124124124;0;0.019230769;0.005681818],[0.460552933;0.006012024;0.03028028;0;0.019230769;0.005681818],[0.082939987;0.029308617;0.249249249;0.0625;0.019230769;0.017045455],[0.123398517;0.029308617;0.124124124;0;0.019230769;0.011363636],[0.062710722;0.029308617;0.061561562;0.0625;0.019230769;0.011363636],[0.062710722;0.029308617;0.186686687;0.0625;0.019230769;0.011363636],[0.136884693;0.029308617;0.124124124;0.0625;0.019230769;0.011363636],[0.527983817;0.006012024;0.124124124;0;0.019230769;0.022727273],[0.527983817;0.006012024;0.124124124;0;0.019230769;0.022727273],[0.527983817;0.006012024;0.124124124;0;0.019230769;0.022727273],[0.527983817;0.006012024;0.124124124;0;0.019230769;0.022727273],[0.527983817;0.006012024;0.124124124;0;0.019230769;0.022727273],[0.072825354;0.014028056;0.01463964;0;0.153846154;0.113636364],[0.039109912;0.060621242;0.124124124;0.25;0.019230769;0.215909091],[0.039109912;0.060621242;0.249249249;0.25;0.019230769;0.215909091],[0.039109912;0.060621242;0.249249249;0.5;0.019230769;0.215909091],[0.049224545;0.006012024;0.01463964;0;0.057692308;0.056818182],[0.059339177;0.006012024;0.03028028;0;0.057692308;0.056818182],[0.059339177;0.029308617;0.061561562;0;0.057692308;0.136363636],[0.059339177;0.060621242;0.061561562;0.03125;0.057692308;0.107954545],[0.039109912;0.060621242;0.124124124;0.03125;0.057692308;0.136363636],[0.039109912;0.091933868;0.124124124;0.03125;0.057692308;0.272727273],[0.106540796;0.006012024;0.03028028;0;0.057692308;0.136363636],[0.1908294;0.022044088;0.045920921;0;0.115384615;0.136363636],[0.1908294;0.022044088;0.045920921;0.0234375;0.115384615;0.136363636],[0.1908294;0.022044088;0.186686687;0.0234375;0.115384615;0.136363636],[0.1908294;0.022044088;0.069381882;0;0.019230769;0.136363636],[0.1908294;0.01002004;0.186686687;0.0234375;0.019230769;0.136363636],[0.1908294;0.004008016;0.011011011;0.0234375;0.115384615;0.136363636],[0.10991234;0.022044088;0.186686687;0.0234375;0.019230769;0.176136364],[0.211058665;0.029308617;0.045920921;0;0.038461538;0.022727273],[0.1908294;0.029308617;0.061561562;0.03125;0.057692308;0.363636364],[0.1908294;0.029308617;0.249249249;0.03125;0.038461538;0.636363636],[0.211058665;0.029308617;0.03028028;0;0.019230769;0.011363636],[0.211058665;0.029308617;0.061561562;0;0.057692308;0.034090909],[0.082939987;0.060621242;0.061561562;0;0.057692308;0.034090909],[0.082939987;0.060621242;0.061561562;0;0.076923077;0.045454545],[0.082939987;0.060621242;0.061561562;0.03125;0.019230769;0.113636364],[0.082939987;0.060621242;0.499499499;0.125;0.019230769;0.113636364],[0.082939987;0.060621242;0.124124124;0.125;0.019230769;0.306818182],[0.082939987;0.060621242;0.499499499;0.125;0.019230769;0.306818182],[0.082939987;0.060621242;0.499499499;0.125;0.019230769;0.306818182],[0.082939987;0.060621242;0.061561562;0.03125;0.019230769;0.113636364],[0.026972353;0.123246493;0.249249249;0.00390625;0.115384615;0.068181818],[0.026972353;0.123246493;0.374374374;0.25;0.230769231;0.090909091],[0.00606878;0.498997996;0.499499499;0.25;0.307692308;0.136363636],[0.00606878;0.498997996;0.499499499;0.25;0.153846154;0.136363636],[0.00606878;0.248496994;0.499499499;0;0.153846154;0.136363636],[0.00606878;0.248496994;0.249249249;0;0.153846154;0.090909091],[0.31220499;0.001002004;0.007007007;0;0.019230769;0.005681818],[0.125421443;0.029308617;0.03028028;0;0.019230769;0.028409091],[0.066082266;0.014028056;0.092842843;0.0625;0.019230769;0.034090909],[0.730276467;0.014028056;0.02245996;0;0.019230769;0.005681818],[0.730276467;0.022044088;0.03028028;0;0.019230769;0.005681818],[0.39312205;0.022044088;0.03028028;0;0.019230769;0.005681818],[0.258260283;0.060621242;0.061561562;0;0.019230769;0.005681818],[0.258260283;0.123246493;0.124124124;0;0.019230769;0.005681818],[0.5954147;0.029308617;0.01463964;0;0.019230769;0.011363636],[0.5954147;0.014028056;0.01463964;0;0.019230769;0.011363636],[0.5954147;0.029308617;0.061561562;0.015625;0.019230769;0.011363636],[0.5954147;0.029308617;0.061561562;0.03125;0.019230769;0.011363636],[0.5954147;0.060621242;0.061561562;0;0.057692308;0.034090909],[0.140256237;0.060621242;0.061561562;0.03125;0.057692308;0.034090909],[0.140256237;0.060621242;0.061561562;0.03125;0.057692308;0.034090909],[0.10991234;0.060621242;0.124124124;0.03125;0.019230769;0.034090909],[0.113283884;0.060621242;0.249249249;0.0625;0.019230769;0.034090909],[0.10991234;0.060621242;0.249249249;0.0625;0.019230769;0.034090909],[0.140256237;0.029308617;0.061561562;0.0078125;0.057692308;0.034090909],[0.005394471;0.060621242;0.186686687;0.03125;0.019230769;0.022727273],[0.005394471;0.060621242;0.186686687;0.0625;0.057692308;0.028409091],[0;0.123246493;0.249249249;0.03125;0.115384615;0.068181818],[0;0.123246493;0.249249249;0.125;0.115384615;0.068181818],[1;0.022044088;0.01463964;0;0;0],[1;0.022044088;0.03028028;0;0;0],[0.527983817;0.022044088;0.03028028;0;0;0],[0.022252192;0.060621242;0.061561562;0;0.057692308;0.034090909],[0.022252192;0.060621242;0.124124124;0.03125;0.057692308;0.034090909],[0.022252192;0.060621242;0.124124124;0.03125;0.019230769;0.034090909],[0.022252192;0.060621242;0.249249249;0.09375;0.019230769;0.034090909],[0.022252192;0.060621242;0.249249249;0.09375;0.019230769;0.034090909],[0.022252192;0.248496994;0.249249249;0.1875;0.019230769;0.056818182],[0.055967633;0.029308617;0.124124124;0;0.038461538;0.034090909],[0.055967633;0.029308617;0.124124124;0.09375;0.038461538;0.034090909],[0.055967633;0.029308617;0.124124124;0.09375;0.057692308;0.034090909],[0.022252192;0.060621242;0.249249249;0.046875;0.057692308;0.090909091],[0.022252192;0.060621242;0.249249249;0.09375;0.115384615;0.090909091],[0.022252192;0.060621242;0.249249249;0.09375;0.115384615;0.090909091],[0.089683075;0.014028056;0.061561562;0;0.153846154;0.727272727],[0.066082266;0.060621242;0.124124124;0.0625;0.019230769;0.017045455],[0.066082266;0.060621242;0.061561562;0.0078125;0.019230769;0.028409091],[0.050573163;0.060621242;0.124124124;0.125;0.019230769;0.034090909],[0.050573163;0.060621242;0.124124124;0.125;0.019230769;0.034090909],[0.050573163;0.060621242;0.124124124;0.015625;0.019230769;0.034090909],[0.039109912;0.123246493;0.249249249;0.0625;0.019230769;0.034090909],[0.02899528;0.123246493;0.249249249;0.125;0.019230769;0.034090909],[0.02899528;0.060621242;0.249249249;0.25;0.096153846;0.045454545],[0.02899528;0.123246493;0.249249249;0.25;0.096153846;0.045454545],[0.022252192;0.123246493;0.249249249;0.25;0.096153846;0.056818182],[0.037086986;0.123246493;0.249249249;0.25;0.153846154;0.090909091],[0.037086986;0.060621242;0.124124124;0.0625;0.115384615;0.045454545],[0.015509103;0.248496994;0.249249249;0.125;0.153846154;0.090909091],[0.015509103;0.248496994;0.499499499;0.25;0.153846154;0.136363636],[0.012137559;0.248496994;0.499499499;0.25;0.153846154;0.136363636],[0.014160486;0.498997996;0.499499499;0.5;0.307692308;0.181818182],[0.020903574;0.123246493;0.374374374;0.125;0.153846154;0.136363636],[0.014160486;0.248496994;0.499499499;0.25;0.153846154;0.136363636],[0.008766015;0.498997996;0.499499499;1;0.307692308;0.136363636],[0.064059339;0.029308617;0.01463964;0;0.019230769;0.022727273],[0.045178692;0.029308617;0.03028028;0;0.019230769;0.034090909],[0.026298045;0.029308617;0.061561562;0;0.019230769;0.034090909],[0.026298045;0.060621242;0.092842843;0;0.019230769;0.045454545],[0.026298045;0.060621242;0.124124124;0;0.019230769;0.045454545],[0.026298045;0.123246493;0.124124124;0;0.019230769;0.045454545],[0.026298045;0.123246493;0.186686687;0;0.019230769;0.045454545],[0.026298045;0.123246493;0.249249249;0;0.019230769;0.045454545],[0.014160486;0.123246493;0.124124124;0.125;0.307692308;0.181818182],[0.014160486;0.123246493;0.124124124;0.125;0.307692308;0.181818182],[0.014160486;0.248496994;0.249249249;0.25;0.076923077;0.045454545],[0.014160486;0.248496994;0.374374374;0.625;0.076923077;0.045454545],[0.014160486;0.123246493;0.249249249;0.5;0.307692308;0.181818182],[0.123398517;0.029308617;0.03028028;0;0.019230769;0.011363636],[0.123398517;0.029308617;0.061561562;0;0.019230769;0.022727273],[0.123398517;0.060621242;0.124124124;0.25;0.019230769;0.028409091],[0.157113958;0.014028056;0.061561562;0;0.019230769;0.039772727],[0.157113958;0.014028056;0.061561562;0;0.076923077;0.039772727],[0.157113958;0.029308617;0.249249249;0.00390625;0.019230769;0.045454545],[0.096426163;0.014028056;0.061561562;0.0078125;0.019230769;0.028409091],[0.096426163;0.014028056;0.03028028;0.0078125;0.057692308;0.045454545],[0.096426163;0.029308617;0.061561562;0.03125;0.019230769;0.079545455],[0.096426163;0.029308617;0.124124124;0.0625;0.019230769;0.079545455],[0.096426163;0.060621242;0.124124124;0.125;0.019230769;0.073863636],[0.15037087;0.014028056;0.01463964;0.03125;0.019230769;0.017045455],[0.15037087;0.014028056;0.03028028;0.03125;0.019230769;0.028409091],[0.059339177;0.060621242;0.061561562;0.03125;0.057692308;0.045454545],[0.059339177;0.060621242;0.092842843;0.0625;0.115384615;0.090909091],[0.059339177;0.060621242;0.124124124;0.0625;0.076923077;0.079545455],[0.023600809;0.123246493;0.249249249;0.125;0.076923077;0.068181818],[0.035738368;0.123246493;0.186686687;0.03125;0.115384615;0.045454545],[0.028320971;0.123246493;0.186686687;0.125;0.115384615;0.068181818],[0.028320971;0.248496994;0.249249249;0.25;0.230769231;0.136363636],[0.00606878;0.248496994;0.374374374;0.125;0.153846154;0.090909091],[0.00606878;0.248496994;0.499499499;0.25;0.230769231;0.090909091],[0.00606878;0.248496994;0.499499499;0.5;0.461538462;0.181818182],[0.066756575;0.060621242;0.124124124;0.125;0.096153846;0.159090909],[0.022252192;0.060621242;0.499499499;0.09375;0.115384615;0.147727273],[0.022252192;0.060621242;0.499499499;0.1875;0.5;0.295454545],[0.022252192;0.060621242;0.499499499;0.4375;1;0.590909091],[0.022252192;0.123246493;0.499499499;0.4375;1;0.590909091],[0.008766015;0.248496994;1;0.375;0.230769231;1],[0.008766015;0.248496994;1;0.5;0.230769231;1],[0.10991234;0.0061999;0.061561562;0;0.019230769;0.017045455],[0.10991234;0.014028056;0.061561562;0;0.019230769;0.017045455],[0.10991234;0.0061999;0.061561562;0;0.019230769;0.017045455],[0.10991234;0.014028056;0.061561562;0;0.019230769;0.017045455],[0.072151045;0.029308617;0.124124124;0;0.019230769;0.045454545],[0.054619016;0.029308617;0.124124124;0.125;0.038461538;0.045454545],[0.072825354;0.060621242;0.124124124;0;0.038461538;0.079545455],[0.31220499;0.014028056;0.124124124;0.125;0;0],[0.31220499;0.029308617;0.061561562;0;0;0]]\n",
    "y = [[0.167832168],[0.229895105],[0.187062937],[0.145104895],[0.11013986],[0.272727273],[0.315559441],[0.422202797],[0.550699301],[0.994755245],[0.027972028],[0.02972028],[0.075174825],[0.115384615],[0.003496503],[0.02534965],[0.011363636],[0.019230769],[0.021853147],[0.09965035],[0.020979021],[0.023601399],[0.048076923],[0.061188811],[0.01486014],[0.05506993],[0.023601399],[0.018356643],[0.062062937],[0.018356643],[0.234265734],[0.316433566],[0.022727273],[0.049825175],[0.087412587],[0.176573427],[0.012237762],[0.020104895],[0.056818182],[0.017482517],[0.026223776],[0.02972028],[0.04020979],[0.047202797],[0.057692308],[0.057692308],[0.01048951],[0.012237762],[0.02972028],[0.048951049],[0.015734266],[0.015734266],[0.115384615],[0.026223776],[0.017482517],[0.047202797],[0.056818182],[0.005244755],[0.006993007],[0.012237762],[0.008741259],[0.013986014],[0.026223776],[0.120629371],[0.120629371],[0.221153846],[0.009615385],[0.017482517],[0.022727273],[0.022727273],[0.048951049],[0.050699301],[0.013986014],[0.026223776],[0.033216783],[0.038461538],[0.034090909],[0.041083916],[0.026223776],[0.068181818],[0.008741259],[0.027972028],[0.027972028],[0.008741259],[0.013986014],[0.020104895],[0.02972028],[0.02534965],[0.111888112],[0.052447552],[0.118006993],[0.159965035],[0.013986014],[0.11013986],[0.201923077],[0.401223776],[0.401223776],[0.236888112],[0.156468531],[0],[0.015734266],[0.034090909],[0.000874126],[0.006118881],[0.008741259],[0.022727273],[0.022727273],[0.004370629],[0.004370629],[0.01048951],[0.013986014],[0.027097902],[0.02972028],[0.024475524],[0.038461538],[0.061188811],[0.052447552],[0.015734266],[0.037587413],[0.052447552],[0.082167832],[0.111013986],[0.005244755],[0.01048951],[0.012237762],[0.018356643],[0.034090909],[0.043706294],[0.055944056],[0.064685315],[0.113636364],[0.008741259],[0.017482517],[0.022727273],[0.034090909],[0.041958042],[0.051573427],[0.020979021],[0.038461538],[0.02972028],[0.048951049],[0.047202797],[0.038461538],[0.052447552],[0.06993007],[0.059440559],[0.076048951],[0.091783217],[0.119755245],[0.086538462],[0.181818182],[0.236888112],[0.318181818],[0.440559441],[0.181818182],[0.27972028],[0.440559441],[0.001748252],[0.005244755],[0.009615385],[0.013111888],[0.015734266],[0.024475524],[0.031468531],[0.034965035],[0.039335664],[0.096153846],[0.082167832],[0.117132867],[0.18006993],[0.016608392],[0.020979021],[0.030594406],[0.016608392],[0.038461538],[0.038461538],[0.020979021],[0.022727273],[0.027972028],[0.047202797],[0.090034965],[0],[0.004370629],[0.013986014],[0.023601399],[0.045454545],[0.108391608],[0.060314685],[0.093531469],[0.159090909],[0.145979021],[0.211538462],[0.348776224],[0.055944056],[0.094405594],[0.176573427],[0.263111888],[0.341783217],[0.79458042],[1],[0.005244755],[0.006993007],[0.01048951],[0.013111888],[0.031468531],[0.034965035],[0.04020979],[0.053321678],[0.034090909]]\n",
    "\n",
    "# wykorzystane paczki\n",
    "using BenchmarkTools\n",
    "using ForwardDiff\n",
    "using ReverseDiff"
   ]
  },
  {
   "cell_type": "markdown",
   "metadata": {},
   "source": [
    "# Różniczkowanie w przód"
   ]
  },
  {
   "cell_type": "code",
   "execution_count": 3,
   "metadata": {},
   "outputs": [],
   "source": [
    "struct Dual{T <:Number} <:Number\n",
    "    v::T\n",
    "    dv::T\n",
    "end"
   ]
  },
  {
   "cell_type": "code",
   "execution_count": 4,
   "metadata": {},
   "outputs": [],
   "source": [
    "import Base: +, -, *, /\n",
    "     -(x::Dual) = Dual(-x.v, -x.dv)\n",
    "     +(x::Dual, y::Dual) = Dual( x.v + y.v, x.dv + y.dv)\n",
    "     -(x::Dual, y::Dual) = Dual( x.v - y.v, x.dv - y.dv)\n",
    "     *(x::Dual, y::Dual) = Dual( x.v * y.v, x.dv * y.v + x.v * y.dv)\n",
    "     /(x::Dual, y::Dual) = Dual( x.v / y.v, (x.dv * y.v - x.v * y.dv)/y.v^2)\n",
    " \n",
    "import Base: abs, sin, cos, tan, exp, sqrt, isless\n",
    "    abs(x::Dual) = Dual(abs(x.v),sign(x.v)*x.dv)\n",
    "    sin(x::Dual) = Dual(sin(x.v), cos(x.v)*x.dv)\n",
    "    cos(x::Dual) = Dual(cos(x.v),-sin(x.v)*x.dv)\n",
    "    tan(x::Dual) = Dual(tan(x.v), one(x.v)*x.dv + tan(x.v)^2*x.dv)\n",
    "    exp(x::Dual) = Dual(exp(x.v), exp(x.v)*x.dv)\n",
    "    sqrt(x::Dual) = Dual(sqrt(x.v),.5/sqrt(x.v) * x.dv)\n",
    "    isless(x::Dual, y::Dual) = x.v < y.v;"
   ]
  },
  {
   "cell_type": "code",
   "execution_count": 5,
   "metadata": {},
   "outputs": [],
   "source": [
    "import Base: show\n",
    "show(io::IO, x::Dual) = print(io, \"(\", x.v, \") + [\", x.dv, \"ϵ]\");\n",
    "value(x::Dual) = x.v;\n",
    "partials(x::Dual) = x.dv;"
   ]
  },
  {
   "cell_type": "code",
   "execution_count": 6,
   "metadata": {},
   "outputs": [
    {
     "data": {
      "text/plain": [
       "promote_rule (generic function with 155 methods)"
      ]
     },
     "execution_count": 6,
     "metadata": {},
     "output_type": "execute_result"
    }
   ],
   "source": [
    "import Base: convert, promote_rule\n",
    "convert(::Type{Dual{T}}, x::Dual) where T =\n",
    " Dual(convert(T, x.v), convert(T, x.dv))\n",
    "convert(::Type{Dual{T}}, x::Number) where T =\n",
    " Dual(convert(T, x), zero(T))\n",
    "promote_rule(::Type{Dual{T}}, ::Type{R}) where {T,R} =\n",
    " Dual{promote_type(T,R)}"
   ]
  },
  {
   "cell_type": "markdown",
   "metadata": {},
   "source": [
    "## Macierz Jacobiego dla różniczkowania w przód"
   ]
  },
  {
   "cell_type": "code",
   "execution_count": 7,
   "metadata": {},
   "outputs": [
    {
     "data": {
      "text/plain": [
       "jacobian (generic function with 1 method)"
      ]
     },
     "execution_count": 7,
     "metadata": {},
     "output_type": "execute_result"
    }
   ],
   "source": [
    "J = function jacobian(f, args::Vector{T}) where {T <:Number} # przyjmuje jako argumenty funkcje oraz wektor argumentów\n",
    "    jacobian_columns = Matrix{T}[]\n",
    "    for i=1:length(args)\n",
    "        x = Dual{T}[] # tworzy nowy wektor x dla liczb dualnych\n",
    "        for j=1:length(args)\n",
    "            seed = (i == j)\n",
    "            # dodaje do wektora x liczbe dualną z zarodkiem lub bez w zależności od wartości seed \n",
    "            push!(x, seed ? Dual(args[j], one(args[j])) : Dual(args[j],zero(args[j])))\n",
    "            \n",
    "            #println(\"x to = \",x)\n",
    "            #println(\"iteracja i = \",i,\" j = \",j)\n",
    "        end\n",
    "        #println(f(x))\n",
    "        column = partials.([f(x)...]) # tworzy wektor pochodnych        \n",
    "        push!(jacobian_columns, column[:,:]) # i dodaje do macierzy wynikowej\n",
    "        \n",
    "    end\n",
    "    hcat(jacobian_columns...) # zamienia w macierz układając zbiór wektorów w kolumny \n",
    "end"
   ]
  },
  {
   "cell_type": "markdown",
   "metadata": {},
   "source": [
    "## Test macierzy Jacobiego dla różniczkowania w przód"
   ]
  },
  {
   "cell_type": "code",
   "execution_count": null,
   "metadata": {},
   "outputs": [],
   "source": [
    "println(\"Test f dla wektora x1\")\n",
    "@btime begin\n",
    "J(f, x1)\n",
    "end\n",
    "\n",
    "println(\"Sprawdzenie ForwardDiff\")\n",
    "@btime begin\n",
    "ForwardDiff.jacobian(f, x1)   \n",
    "end\n",
    "\n",
    "println(J(f, x1))"
   ]
  },
  {
   "cell_type": "code",
   "execution_count": null,
   "metadata": {},
   "outputs": [],
   "source": [
    "println(\"Test f dla wektora x2\")\n",
    "@btime begin\n",
    "J(f, x2)\n",
    "end\n",
    "\n",
    "println(\"Sprawdzenie ForwardDiff\")\n",
    "@btime begin\n",
    "ForwardDiff.jacobian(f, x2)   \n",
    "end"
   ]
  },
  {
   "cell_type": "code",
   "execution_count": null,
   "metadata": {},
   "outputs": [],
   "source": [
    "println(\"Test ReLu dla wektora x1\")\n",
    "@btime begin\n",
    "J(ReLu, x1)\n",
    "end\n",
    "\n",
    "println(\"Sprawdzenie ForwardDiff\")\n",
    "@btime begin\n",
    "ForwardDiff.jacobian(ReLu, x1)\n",
    "end"
   ]
  },
  {
   "cell_type": "code",
   "execution_count": null,
   "metadata": {},
   "outputs": [],
   "source": [
    "println(\"Test ReLu dla wektora x2\")\n",
    "@btime begin\n",
    "J(ReLu, x2)\n",
    "end\n",
    "\n",
    "println(\"Sprawdzenie ForwardDiff\")\n",
    "@btime begin\n",
    "ForwardDiff.jacobian(ReLu, x2)   \n",
    "end"
   ]
  },
  {
   "cell_type": "code",
   "execution_count": null,
   "metadata": {},
   "outputs": [],
   "source": [
    "println(\"Test σ dla wektora x1\")\n",
    "@btime begin\n",
    "J(σ, x1)\n",
    "end\n",
    "\n",
    "println(\"Sprawdzenie ForwardDiff\")\n",
    "@btime begin\n",
    "ForwardDiff.jacobian(σ, x1)   \n",
    "end"
   ]
  },
  {
   "cell_type": "code",
   "execution_count": null,
   "metadata": {},
   "outputs": [],
   "source": [
    "println(\"Test σ dla wektora x2\")\n",
    "@btime begin\n",
    "J(σ, x2)\n",
    "end\n",
    "\n",
    "println(\"Sprawdzenie ForwardDiff\")\n",
    "@btime begin\n",
    "ForwardDiff.jacobian(σ, x2)   \n",
    "end"
   ]
  },
  {
   "cell_type": "markdown",
   "metadata": {},
   "source": [
    "## Sieć neuronowa z wykorzystaniem różniczkowania w przód"
   ]
  },
  {
   "cell_type": "code",
   "execution_count": null,
   "metadata": {},
   "outputs": [],
   "source": [
    "dense(w, n, m, v, f) = f.(reshape(w, n, m) * v)\n",
    "mean_squared_loss(y, ŷ) = sum(0.5(y - ŷ).^2)\n",
    "σ(x) = one.(x) ./ (one.(x) .+ exp.(-x))\n",
    "linear(x) = x\n",
    "\n",
    "Wh = randn(10,6)\n",
    "Wo = randn(1,10)\n",
    "dWh = similar(Wh)\n",
    "dWo = similar(Wo)\n",
    "\n",
    "function net(x, wh, wo, y)\n",
    "    x̂ = dense(wh, 10, 6, x, σ)\n",
    "    ŷ = dense(wo, 1, 10, x̂, linear)\n",
    "    E = mean_squared_loss(y, ŷ)     \n",
    "    return E\n",
    "end\n",
    "\n",
    "function netResult(x, wh, wo, y)\n",
    "    x̂ = dense(wh, 10, 6, x, σ)\n",
    "    ŷ = dense(wo, 1, 10, x̂, linear)   \n",
    "    return ŷ\n",
    "end\n",
    "\n",
    "dnet_Wh(x, wh, wo, y) = J(w -> net(x, w, wo, y), wh);\n",
    "dnet_Wo(x, wh, wo, y) = J(w -> net(x, wh, w, y), wo);\n",
    "\n",
    "epochs = 50\n",
    "for j=1:2:209\n",
    "    for i=1:epochs\n",
    "        E = net(x[j], Wh[:], Wo[:], y[j])\n",
    "        #println(E)\n",
    "        dWh[:] = dnet_Wh(x[j], Wh[:], Wo[:], y[j])\n",
    "        dWo[:] = dnet_Wo(x[j], Wh[:], Wo[:], y[j])\n",
    "        Wh -= 0.1dWh #zbadać ten parametr\n",
    "        Wo -= 0.1dWo\n",
    "    end\n",
    "end"
   ]
  },
  {
   "cell_type": "code",
   "execution_count": null,
   "metadata": {},
   "outputs": [],
   "source": [
    "println(\"Zbiór uczący\")\n",
    "println(\"y\\t\\ty przewidywane\\t\\tbłąd\")\n",
    "for i=1:2:209\n",
    "    p = netResult(x[i], Wh, Wo, y[i])\n",
    "    print(y[i][1])\n",
    "    print(\"\\t\")\n",
    "    print(p[1])\n",
    "    print(\"\\t\")\n",
    "    println(abs(p[1] - y[i][1]))\n",
    "end\n",
    "println()\n",
    "println(\"Zbiór testowy\")\n",
    "for i=2:2:209\n",
    "    p = netResult(x[i], Wh, Wo, y[i])\n",
    "    print(y[i][1])\n",
    "    print(\"\\t\")\n",
    "    print(p[1])\n",
    "    print(\"\\t\")\n",
    "    println(abs(p[1] - y[i][1]))\n",
    "end"
   ]
  },
  {
   "cell_type": "markdown",
   "metadata": {},
   "source": [
    "# Różniczkowanie w tył"
   ]
  },
  {
   "cell_type": "code",
   "execution_count": 47,
   "metadata": {},
   "outputs": [
    {
     "data": {
      "text/plain": [
       "CachedNode"
      ]
     },
     "execution_count": 47,
     "metadata": {},
     "output_type": "execute_result"
    }
   ],
   "source": [
    "abstract type AbstractNode end\n",
    "\n",
    "mutable struct Variable{T} <: AbstractNode\n",
    "    value::T\n",
    "    grad::T\n",
    "    \n",
    "    Variable(val::T) where T = new{T}(val, zero(val))\n",
    "    Variable(val::T, grad::T) where T = new{T}(val, grad)\n",
    "end\n",
    "\n",
    "struct Node{FT <: Function, ArgsT} <: AbstractNode\n",
    "    f::FT # funkcja wykonywana w node\n",
    "    args::ArgsT # argumenty funkcji\n",
    "end\n",
    "\n",
    "mutable struct CachedNode{NT <: AbstractNode, OutT} <: AbstractNode\n",
    "    node::NT # Node\n",
    "    output::OutT # wynik operacji na zadanych argumentach w computable Node\n",
    "end\n",
    "\n",
    "function CachedNode(f, args...)\n",
    "    println(f)\n",
    "    node = Node(f, args)\n",
    "    output = forward(node)\n",
    "    CachedNode(node, output)\n",
    "end"
   ]
  },
  {
   "cell_type": "code",
   "execution_count": 48,
   "metadata": {},
   "outputs": [
    {
     "data": {
      "text/plain": [
       "forward (generic function with 4 methods)"
      ]
     },
     "execution_count": 48,
     "metadata": {},
     "output_type": "execute_result"
    }
   ],
   "source": [
    "forward(cached::CachedNode) = cached.output = forward(cached.node)\n",
    "forward(node::Node) = forward(node.f, map(forward, node.args)...) # dokonujemy mapowania funkcją forward aby dobrac się do value zmiennych variable\n",
    "forward(f::Function, args...) = f(args...) # finalne wykonanie operacji na zadanych argumentach i obliczenie wyniku\n",
    "forward(var::Variable) = var.value # wykorzystywane do mapowania"
   ]
  },
  {
   "cell_type": "code",
   "execution_count": 49,
   "metadata": {},
   "outputs": [
    {
     "data": {
      "text/plain": [
       "value (generic function with 4 methods)"
      ]
     },
     "execution_count": 49,
     "metadata": {},
     "output_type": "execute_result"
    }
   ],
   "source": [
    "value(x) = x\n",
    "value(x::Variable) = x.value\n",
    "value(x::CachedNode) = value(x.output)"
   ]
  },
  {
   "cell_type": "code",
   "execution_count": 50,
   "metadata": {},
   "outputs": [
    {
     "data": {
      "text/plain": [
       "promote_rule (generic function with 156 methods)"
      ]
     },
     "execution_count": 50,
     "metadata": {},
     "output_type": "execute_result"
    }
   ],
   "source": [
    "import Base: convert, promote_rule\n",
    "convert(::Type{Variable{T}}, x::Variable) where T =\n",
    " Variable(convert(T, x.value), convert(T, x.grad))\n",
    "convert(::Type{Variable{T}}, x::Number) where T =\n",
    " Variable(convert(T, x), zero(T))\n",
    "promote_rule(::Type{Variable{T}}, ::Type{R}) where {T,R} =\n",
    " Variable{promote_type(T,R)}"
   ]
  },
  {
   "cell_type": "code",
   "execution_count": 51,
   "metadata": {},
   "outputs": [
    {
     "data": {
      "text/plain": [
       "iterate_forward (generic function with 4 methods)"
      ]
     },
     "execution_count": 51,
     "metadata": {},
     "output_type": "execute_result"
    }
   ],
   "source": [
    "# rejestracja operacji z wyrażenia wejściowego\n",
    "register(f, args...) = CachedNode(f, args...)\n",
    "\n",
    "import Base: +, -, *, /\n",
    "    -(x::AbstractNode) = register(-, x)\n",
    "    +(x::AbstractNode, y::AbstractNode) = register(+, x, y)\n",
    "    -(x::AbstractNode, y::AbstractNode) = register(-, x, y)\n",
    "    *(x::AbstractNode, y::AbstractNode) = register(*, x, y)\n",
    "    #*(x::AbstractNode, y::Number) = register(*, x, Variable(y))\n",
    "    /(x::AbstractNode, y::AbstractNode) = register(/, x, y)\n",
    "import Base: abs, sin, cos, tan, exp, sqrt, zero, one, max, min, length, iterate, sum\n",
    "    abs(x::AbstractNode) = register(abs, x)\n",
    "    sin(x::AbstractNode) = register(sin, x)\n",
    "    cos(x::AbstractNode) = register(cos, x)\n",
    "    tan(x::AbstractNode) = register(tan, x)\n",
    "    exp(x::AbstractNode) = register(exp, x)\n",
    "    sqrt(x::AbstractNode) = register(sqrt, x)\n",
    "    zero(x::AbstractNode) = register(zero, x)\n",
    "    one(x::AbstractNode) = register(one, x)\n",
    "    max(x::AbstractNode, y::AbstractNode) = register(max, x, y)\n",
    "    min(x::AbstractNode, y::AbstractNode) = register(min, x, y)\n",
    "    length(x::AbstractNode) = length(value(x))\n",
    "    iterate(x::AbstractNode) = iterate_forward(iterate(value(x)), x)\n",
    "    iterate(x::AbstractNode, st) = iterate_forward(iterate(value(x), st), x, st)\n",
    "    #sum(x::Value{<:AbstractArray}; dims=:) = register(Base.sum, x; dims=dims)\n",
    "\n",
    "iterate_forward(out::Nothing, x::AbstractNode) = nothing\n",
    "iterate_forward(out::Nothing, x::AbstractNode, st) = nothing\n",
    "\n",
    "function iterate_forward(out, x::AbstractNode, st)\n",
    "   node = Node(Base.iterate, (x, st))\n",
    "   v, st = out\n",
    "   CachedNode(node, v), st\n",
    "end\n",
    "\n",
    "function iterate_forward(out, x::AbstractNode)\n",
    "    node = Node(iterate, (x, ))\n",
    "    v, st = out\n",
    "    CachedNode(node, v), st\n",
    "end"
   ]
  },
  {
   "cell_type": "code",
   "execution_count": 52,
   "metadata": {},
   "outputs": [
    {
     "data": {
      "text/plain": [
       "gradient (generic function with 18 methods)"
      ]
     },
     "execution_count": 52,
     "metadata": {},
     "output_type": "execute_result"
    }
   ],
   "source": [
    "function backward(cached::CachedNode, grad)\n",
    "    grad_inputs = gradient(cached, grad)\n",
    "    for (each, each_grad) in zip(cached.node.args, grad_inputs)\n",
    "        backward(each, each_grad)\n",
    "    end\n",
    "end\n",
    "\n",
    "function backward(var::Variable, grad)\n",
    "    var.grad += grad\n",
    "end\n",
    "\n",
    "gradient(cached::CachedNode, grad) =\n",
    "    gradient(cached.node.f, grad, cached.output, map(value, cached.node.args)...)\n",
    "\n",
    "gradient(::typeof(-), grad, output, x) = (-grad, )\n",
    "gradient(::typeof(+), grad, output, x, y) = (grad, grad)\n",
    "gradient(::typeof(-), grad, output, x, y) = (grad, -grad)\n",
    "gradient(::typeof(*), grad, output, x, y) = (grad * y, grad * x) # (pochodna po x, pochodna po y)\n",
    "gradient(::typeof(/), grad, output, x, y) = (grad * one(x)/y, grad * -(x / (y * y)))\n",
    "gradient(::typeof(abs), grad, output, x) = (grad * x/abs(x), ) \n",
    "gradient(::typeof(sin), grad, output, x) = (grad * cos(x), ) # dodajemy ',' aby cały czas to był tuple\n",
    "gradient(::typeof(cos), grad, output, x) = (grad * -sin(x), )\n",
    "gradient(::typeof(tan), grad, output, x) = (grad * (tan(x)*tan(x)+1), )\n",
    "gradient(::typeof(exp), grad, output, x) = (grad * exp(x), )\n",
    "gradient(::typeof(sqrt), grad, output, x) = (grad * 1/(2*sqrt(x)), )\n",
    "gradient(::typeof(min), grad, output, x, y) = (isless(x, y) ? grad * one(x) : grad * zero(x), \n",
    "                                          isless(x, y) ? grad * zero(y) : grad * one(y))\n",
    "gradient(::typeof(max), grad, output, x, y) = (isless(x, y) ? grad * zero(x) : grad * one(x), \n",
    "                                          isless(x, y) ? grad * one(y) : grad * zero(y))\n",
    "gradient(::typeof(zero), grad, output, x) = (grad * zero(x), ) # zero czy one to po prostu funkcje stałe\n",
    "gradient(::typeof(one), grad, output, x) = (grad * zero(x), )\n",
    "#gradient(::typeof(sum), grad, output, x::AbstractArray; dims) =\n",
    "#    grad_sum(grad, x, dims)\n",
    "\n",
    "#grad_sum(grad, x, dims::Colon) = (fill!(similar(x), grad), )\n",
    "\n",
    "function gradient(::typeof(iterate), grad::Number, output, x::AbstractArray)\n",
    "    out_grad = zero(x)\n",
    "    out_grad[1] = grad\n",
    "    (out_grad, )\n",
    "end\n",
    "\n",
    "# function gradient(::typeof(iterate), grad::Number, output, x::Number)\n",
    "#     (zero(grad), )\n",
    "# end\n",
    "\n",
    "function gradient(::typeof(iterate), grad, output, x::AbstractArray, st)\n",
    "    out_grad = zero(x)\n",
    "    out_grad[st] = grad\n",
    "    (out_grad, )\n",
    "end"
   ]
  },
  {
   "cell_type": "code",
   "execution_count": 53,
   "metadata": {},
   "outputs": [
    {
     "data": {
      "text/plain": [
       "jacobian (generic function with 3 methods)"
      ]
     },
     "execution_count": 53,
     "metadata": {},
     "output_type": "execute_result"
    }
   ],
   "source": [
    "function jacobian(cached::CachedNode)\n",
    "    jjj = []\n",
    "    println(\"In Jacobian\")\n",
    "    for each in cached.node.args\n",
    "        #println(\"------\")\n",
    "        #println(each)\n",
    "        x = jacobian(each)\n",
    "        #println(x)\n",
    "        push!(jjj, x)\n",
    "        #println(jjj)\n",
    "    end\n",
    "    return jjj\n",
    "end\n",
    "\n",
    "function jacobian(var::Variable)\n",
    "    #println(\"_________\")\n",
    "    #println(var.grad)\n",
    "    return var.grad\n",
    "end"
   ]
  },
  {
   "cell_type": "code",
   "execution_count": 54,
   "metadata": {},
   "outputs": [
    {
     "data": {
      "text/plain": [
       "getJacobianValue (generic function with 2 methods)"
      ]
     },
     "execution_count": 54,
     "metadata": {},
     "output_type": "execute_result"
    }
   ],
   "source": [
    "J2 = function jacobian2(f, args::Vector{T}) where {T <:Number} # przyjmuje jako argumenty funkcje oraz wektor argumentów\n",
    "    x = map(x -> Variable(x), args)\n",
    "    println(x)\n",
    "    y = f(x)\n",
    "    println(\"Before backward\")\n",
    "    backward.(y, 1.0)\n",
    "    println(y)\n",
    "    diagonal = jacobian.(y)\n",
    "    size = length(diagonal)\n",
    "    Jacobian = zeros(size, size)\n",
    "    for i=1:size\n",
    "        Jacobian[i,i] = getJacobianValue(diagonal[i])\n",
    "    end\n",
    "    #println(\"jacobian:\")\n",
    "    #println(Jacobian)\n",
    "    return Jacobian\n",
    "end\n",
    "\n",
    "function getJacobianValue(val::Array{Any})\n",
    "    return getJacobianValue(val[length(val)])\n",
    "end\n",
    "\n",
    "function getJacobianValue(val::Any)\n",
    "    return val\n",
    "end"
   ]
  },
  {
   "cell_type": "markdown",
   "metadata": {},
   "source": [
    "## Testy macierzy Jacobiego dla różniczkowania w tył"
   ]
  },
  {
   "cell_type": "code",
   "execution_count": null,
   "metadata": {},
   "outputs": [],
   "source": [
    "println(\"Test f dla wektora x1\")\n",
    "#@btime begin\n",
    "J2(f, x1)\n",
    "#end\n",
    "\n",
    "println(\"Sprawdzenie ReverseDiff\")\n",
    "#@btime begin\n",
    "y = ReverseDiff.jacobian(f, x1)\n",
    "#end\n",
    "println(y)\n",
    "println(J2(f, x1))"
   ]
  },
  {
   "cell_type": "code",
   "execution_count": null,
   "metadata": {},
   "outputs": [],
   "source": [
    "println(\"Test f dla wektora x2\")\n",
    "@btime begin\n",
    "J2(f, x2)\n",
    "end\n",
    "\n",
    "println(\"Sprawdzenie ReverseDiff\")\n",
    "@btime begin\n",
    "ReverseDiff.jacobian(f, x2)\n",
    "end"
   ]
  },
  {
   "cell_type": "code",
   "execution_count": null,
   "metadata": {},
   "outputs": [],
   "source": [
    "println(\"Test ReLu dla wektora x1\")\n",
    "@btime begin\n",
    "J2(ReLu, x1)\n",
    "end\n",
    "\n",
    "println(\"Sprawdzenie ReverseDiff\")\n",
    "@btime begin\n",
    "ReverseDiff.jacobian(ReLu, x1)\n",
    "end"
   ]
  },
  {
   "cell_type": "code",
   "execution_count": null,
   "metadata": {},
   "outputs": [],
   "source": [
    "println(\"Test ReLu dla wektora x2\")\n",
    "@btime begin\n",
    "J2(ReLu, x2)\n",
    "end\n",
    "\n",
    "println(\"Sprawdzenie ReverseDiff\")\n",
    "@btime begin\n",
    "ReverseDiff.jacobian(ReLu, x2)\n",
    "end"
   ]
  },
  {
   "cell_type": "code",
   "execution_count": null,
   "metadata": {},
   "outputs": [],
   "source": [
    "println(\"Test σ dla wektora x1\")\n",
    "#@btime begin\n",
    "println(J2(σ, x1))\n",
    "#end\n",
    "\n",
    "println(\"Sprawdzenie ReverseDiff\")\n",
    "#@btime begin\n",
    "ReverseDiff.jacobian(σ, x1)\n",
    "#end"
   ]
  },
  {
   "cell_type": "code",
   "execution_count": null,
   "metadata": {},
   "outputs": [],
   "source": [
    "println(\"Test σ dla wektora x2\")\n",
    "@btime begin\n",
    "J2(σ, x2)\n",
    "end\n",
    "\n",
    "println(\"Sprawdzenie ReverseDiff\")\n",
    "@btime begin\n",
    "ReverseDiff.jacobian(σ, x2)\n",
    "end"
   ]
  },
  {
   "cell_type": "code",
   "execution_count": null,
   "metadata": {},
   "outputs": [],
   "source": [
    "println(\"Test softmax dla wektora x1\")\n",
    "#@btime begin\n",
    "println(J2(softmax, x1))\n",
    "#end\n",
    "\n",
    "println(\"Sprawdzenie ReverseDiff\")\n",
    "#@btime begin\n",
    "ReverseDiff.jacobian(softmax, x1)\n",
    "#end"
   ]
  },
  {
   "cell_type": "markdown",
   "metadata": {},
   "source": [
    "## Sieć neuronowa dla różniczkowania w tył"
   ]
  },
  {
   "cell_type": "code",
   "execution_count": 64,
   "metadata": {},
   "outputs": [
    {
     "ename": "LoadError",
     "evalue": "MethodError: no method matching *(::Variable{Float64}, ::Vector{Float64})\n\u001b[0mClosest candidates are:\n\u001b[0m  *(::Any, ::Any, \u001b[91m::Any\u001b[39m, \u001b[91m::Any...\u001b[39m) at operators.jl:560\n\u001b[0m  *(\u001b[91m::StridedMatrix{T}\u001b[39m, ::StridedVector{S}) where {T<:Union{Float32, Float64, ComplexF32, ComplexF64}, S<:Real} at C:\\buildbot\\worker\\package_win64\\build\\usr\\share\\julia\\stdlib\\v1.6\\LinearAlgebra\\src\\matmul.jl:44\n\u001b[0m  *(\u001b[91m::Union{SparseArrays.AbstractSparseMatrixCSC{TA, Ti}, SubArray{TA, 2, var\"#s832\", Tuple{Base.Slice{Base.OneTo{Int64}}, I}, L} where {I<:AbstractUnitRange, var\"#s832\"<:SparseArrays.AbstractSparseMatrixCSC{TA, Ti}, L}} where Ti\u001b[39m, ::Union{StridedVector{T} where T, BitVector}) where TA at C:\\buildbot\\worker\\package_win64\\build\\usr\\share\\julia\\stdlib\\v1.6\\SparseArrays\\src\\linalg.jl:50\n\u001b[0m  ...",
     "output_type": "error",
     "traceback": [
      "MethodError: no method matching *(::Variable{Float64}, ::Vector{Float64})\n\u001b[0mClosest candidates are:\n\u001b[0m  *(::Any, ::Any, \u001b[91m::Any\u001b[39m, \u001b[91m::Any...\u001b[39m) at operators.jl:560\n\u001b[0m  *(\u001b[91m::StridedMatrix{T}\u001b[39m, ::StridedVector{S}) where {T<:Union{Float32, Float64, ComplexF32, ComplexF64}, S<:Real} at C:\\buildbot\\worker\\package_win64\\build\\usr\\share\\julia\\stdlib\\v1.6\\LinearAlgebra\\src\\matmul.jl:44\n\u001b[0m  *(\u001b[91m::Union{SparseArrays.AbstractSparseMatrixCSC{TA, Ti}, SubArray{TA, 2, var\"#s832\", Tuple{Base.Slice{Base.OneTo{Int64}}, I}, L} where {I<:AbstractUnitRange, var\"#s832\"<:SparseArrays.AbstractSparseMatrixCSC{TA, Ti}, L}} where Ti\u001b[39m, ::Union{StridedVector{T} where T, BitVector}) where TA at C:\\buildbot\\worker\\package_win64\\build\\usr\\share\\julia\\stdlib\\v1.6\\SparseArrays\\src\\linalg.jl:50\n\u001b[0m  ...",
      "",
      "Stacktrace:",
      " [1] mean_squared_loss(y::Vector{Float64}, ŷ::Vector{Float64})",
      "   @ Main .\\In[64]:2",
      " [2] net(x::Vector{Float64}, wh::Vector{Float64}, wo::Vector{Float64}, y::Vector{Float64})",
      "   @ Main .\\In[64]:14",
      " [3] top-level scope",
      "   @ .\\In[64]:30",
      " [4] eval",
      "   @ .\\boot.jl:360 [inlined]",
      " [5] include_string(mapexpr::typeof(REPL.softscope), mod::Module, code::String, filename::String)",
      "   @ Base .\\loading.jl:1094"
     ]
    }
   ],
   "source": [
    "dense(w, n, m, v, f) = f.(reshape(w, n, m) * v)\n",
    "mean_squared_loss(y, ŷ) = sum(Variable(0.5)*(y - ŷ).^2)\n",
    "σ(x) = one.(x) ./ (one.(x) .+ exp.(-x))\n",
    "linear(x) = x\n",
    "\n",
    "Wh = randn(10,6)\n",
    "Wo = randn(1,10)\n",
    "dWh = similar(Wh)\n",
    "dWo = similar(Wo)\n",
    "\n",
    "function net(x, wh, wo, y)\n",
    "    x̂ = dense(wh, 10, 6, x, σ)\n",
    "    ŷ = dense(wo, 1, 10, x̂, linear)\n",
    "    E = mean_squared_loss(y, ŷ)     \n",
    "    return E\n",
    "end\n",
    "\n",
    "function netResult(x, wh, wo, y)\n",
    "    x̂ = dense(wh, 10, 6, x, σ)\n",
    "    ŷ = dense(wo, 1, 10, x̂, linear)   \n",
    "    return ŷ\n",
    "end\n",
    "\n",
    "dnet_Wh(x, wh, wo, y) = J2(w -> net(x, w, wo, y), wh);\n",
    "dnet_Wo(x, wh, wo, y) = J2(w -> net(x, wh, w, y), wo);\n",
    "\n",
    "epochs = 50\n",
    "for j=1:2:209\n",
    "    for i=1:epochs\n",
    "        E = net(x[j], Wh[:], Wo[:], y[j])\n",
    "        #println(E)\n",
    "        dWh[:] = dnet_Wh(x[j], Wh[:], Wo[:], y[j])\n",
    "        dWo[:] = dnet_Wo(x[j], Wh[:], Wo[:], y[j])\n",
    "        Wh -= 0.1dWh #zbadać ten parametr\n",
    "        Wo -= 0.1dWo\n",
    "    end\n",
    "end"
   ]
  },
  {
   "cell_type": "code",
   "execution_count": 59,
   "metadata": {},
   "outputs": [
    {
     "name": "stdout",
     "output_type": "stream",
     "text": [
      "Zbiór uczący\n",
      "y\t\ty przewidywane\t\tbłąd\n",
      "0.167832168\t-0.13609499458020935\t0.30392716258020935\n",
      "0.187062937\t0.3057671663336656\t0.11870422933366556\n",
      "0.11013986\t0.05773084654795113\t0.052409013452048875\n",
      "0.315559441\t0.10991799219143415\t0.20564144880856583\n",
      "0.550699301\t0.5696912497259488\t0.018991948725948782\n",
      "0.027972028\t0.009307290330472756\t0.018664737669527243\n",
      "0.075174825\t0.13684562430176994\t0.06167079930176994\n",
      "0.003496503\t-0.02512549975711248\t0.02862200275711248\n",
      "0.011363636\t-0.022749039245765615\t0.03411267524576561\n",
      "0.021853147\t-0.04832947521025632\t0.07018262221025633\n",
      "0.020979021\t-0.026672355875714066\t0.047651376875714066\n",
      "0.048076923\t-0.15673425807013955\t0.20481118107013954\n",
      "0.01486014\t0.07044615715986484\t0.05558601715986484\n",
      "0.023601399\t0.08524718867800644\t0.06164578967800645\n",
      "0.062062937\t0.06397392931965425\t0.0019109923196542478\n",
      "0.234265734\t0.01695799596479275\t0.21730773803520725\n",
      "0.022727273\t0.06462801625060202\t0.04190074325060202\n",
      "0.087412587\t0.19437284737653002\t0.10696026037653002\n",
      "0.012237762\t0.031140455772837916\t0.018902693772837917\n",
      "0.056818182\t0.10517477585815929\t0.04835659385815929\n",
      "0.026223776\t0.12961059278638282\t0.10338681678638281\n",
      "0.04020979\t0.2565036448393136\t0.2162938548393136\n",
      "0.057692308\t0.1825008381827104\t0.1248085301827104\n",
      "0.01048951\t-0.0319584882077371\t0.0424479982077371\n",
      "0.02972028\t0.12482384676675465\t0.09510356676675465\n",
      "0.015734266\t0.11329971195382724\t0.09756544595382724\n",
      "0.115384615\t0.30125315157711047\t0.18586853657711047\n",
      "0.017482517\t0.0652786051114637\t0.0477960881114637\n",
      "0.056818182\t0.13784632561991478\t0.08102814361991478\n",
      "0.006993007\t0.10462985732487401\t0.09763685032487401\n",
      "0.008741259\t0.10462985732487401\t0.09588859832487401\n",
      "0.026223776\t-0.07378081827019514\t0.10000459427019515\n",
      "0.120629371\t0.20310374411262344\t0.08247437311262344\n",
      "0.009615385\t-0.017157881200263556\t0.026773266200263556\n",
      "0.022727273\t-0.023921540291749713\t0.04664881329174971\n",
      "0.048951049\t0.03700635291107951\t0.011944696088920494\n",
      "0.013986014\t-0.04754269142235115\t0.06152870542235115\n",
      "0.033216783\t-0.05556281206612486\t0.08877959506612486\n",
      "0.034090909\t-0.014549469323640929\t0.04864037832364093\n",
      "0.026223776\t-0.08323057295523956\t0.10945434895523956\n",
      "0.008741259\t0.004541576929743593\t0.004199682070256406\n",
      "0.027972028\t-0.062018320291034594\t0.0899903482910346\n",
      "0.013986014\t0.015422017518597786\t0.0014360035185977862\n",
      "0.02972028\t-0.00912104503999879\t0.03884132503999879\n",
      "0.111888112\t0.5292826095507784\t0.41739449755077845\n",
      "0.118006993\t0.42832966406262984\t0.31032267106262984\n",
      "0.013986014\t-0.031054129546607218\t0.045040143546607216\n",
      "0.201923077\t0.3323435295959809\t0.1304204525959809\n",
      "0.401223776\t0.13207045350098393\t0.269153322499016\n",
      "0.156468531\t0.03918148303088996\t0.11728704796911003\n",
      "0.015734266\t-0.006488294355823751\t0.02222256035582375\n",
      "0.000874126\t-0.0177359726536465\t0.0186100986536465\n",
      "0.008741259\t-0.011033133118266189\t0.01977439211826619\n",
      "0.022727273\t0.02369274805115923\t0.00096547505115923\n",
      "0.004370629\t-0.031339510526249975\t0.035710139526249976\n",
      "0.013986014\t0.01820284334301056\t0.004216829343010561\n",
      "0.02972028\t0.00036240688934416343\t0.02935787311065584\n",
      "0.038461538\t0.0914589791910898\t0.0529974411910898\n",
      "0.052447552\t0.25879665787790385\t0.20634910587790384\n",
      "0.037587413\t0.19095349836896344\t0.15336608536896346\n",
      "0.082167832\t0.1728891958647158\t0.0907213638647158\n",
      "0.005244755\t-0.01297947438371172\t0.01822422938371172\n",
      "0.012237762\t-0.009413594000035247\t0.021651356000035246\n",
      "0.034090909\t0.0963050626939464\t0.062214153693946395\n",
      "0.055944056\t0.2743124774050945\t0.21836842140509452\n",
      "0.113636364\t0.09868840887501483\t0.014947955124985174\n",
      "0.017482517\t0.13870906353128343\t0.12122654653128342\n",
      "0.034090909\t0.22854733425817686\t0.19445642525817686\n",
      "0.051573427\t0.22988706440038473\t0.17831363740038472\n",
      "0.038461538\t0.11300204583450622\t0.07454050783450622\n",
      "0.048951049\t0.11837683440740876\t0.06942578540740876\n",
      "0.038461538\t0.09510352544130593\t0.05664198744130593\n",
      "0.06993007\t0.21899325642084888\t0.14906318642084887\n",
      "0.076048951\t0.22230040971729748\t0.14625145871729747\n",
      "0.119755245\t0.191078354423163\t0.07132310942316301\n",
      "0.181818182\t0.056670497502322434\t0.12514768449767755\n",
      "0.318181818\t0.3429948191043162\t0.024813001104316168\n",
      "0.181818182\t0.2996859690550864\t0.11786778705508638\n",
      "0.440559441\t0.08060134631153561\t0.3599580946884644\n",
      "0.005244755\t-0.00014284118262536394\t0.005387596182625364\n",
      "0.013111888\t0.04751753311548816\t0.03440564511548816\n",
      "0.024475524\t0.028509415471827837\t0.0040338914718278385\n",
      "0.034965035\t0.18901363391682774\t0.15404859891682773\n",
      "0.096153846\t-0.05891701819476755\t0.15507086419476757\n",
      "0.117132867\t0.2549576311436905\t0.13782476414369052\n",
      "0.016608392\t0.0031611456875071386\t0.013447246312492861\n",
      "0.030594406\t0.13457800326442487\t0.10398359726442487\n",
      "0.038461538\t0.02992154605331651\t0.008539991946683492\n",
      "0.020979021\t0.054259324507079196\t0.033280303507079195\n",
      "0.027972028\t0.016458354766388503\t0.011513673233611497\n",
      "0.090034965\t0.09144214819088924\t0.0014071831908892413\n",
      "0.004370629\t0.012370629982836778\t0.008000000982836777\n",
      "0.023601399\t0.017576550342504868\t0.006024848657495131\n",
      "0.108391608\t0.19348841890087312\t0.08509681090087312\n",
      "0.093531469\t0.10875487332725775\t0.015223404327257745\n",
      "0.145979021\t0.21079035719422076\t0.06481133619422078\n",
      "0.348776224\t0.30968263109286953\t0.03909359290713049\n",
      "0.094405594\t0.4978310532538212\t0.40342545925382123\n",
      "0.263111888\t0.20996326162305146\t0.05314862637694856\n",
      "0.79458042\t0.3987591317217205\t0.39582128827827945\n",
      "0.005244755\t0.06472396482713015\t0.05947920982713015\n",
      "0.01048951\t0.06472396482713015\t0.05423445482713015\n",
      "0.031468531\t0.1128224743277368\t0.0813539433277368\n",
      "0.04020979\t0.060466532582642424\t0.02025674258264242\n",
      "0.034090909\t0.034090890555171144\t1.8444828858710238e-8\n",
      "\n",
      "Zbiór testowy\n",
      "0.229895105\t0.3057671663336656\t0.07587206133366559\n",
      "0.145104895\t0.3057671663336656\t0.16066227133366556\n",
      "0.272727273\t0.32070718789392083\t0.04797991489392084\n",
      "0.422202797\t0.10991799219143415\t0.31228480480856585\n",
      "0.994755245\t0.23159209766061442\t0.7631631473393856\n",
      "0.02972028\t0.025094104123413077\t0.004626175876586924\n",
      "0.115384615\t0.23233726995922882\t0.11695265495922882\n",
      "0.02534965\t0.1966667652721288\t0.1713171152721288\n",
      "0.019230769\t-0.029113164126879712\t0.048343933126879714\n",
      "0.09965035\t-0.1390670413652829\t0.2387173913652829\n",
      "0.023601399\t-0.038442085901573414\t0.06204348490157341\n",
      "0.061188811\t-0.17806023507398966\t0.23924904607398967\n",
      "0.05506993\t0.009274531230937064\t0.04579539876906294\n",
      "0.018356643\t0.037157133798425196\t0.018800490798425197\n",
      "0.018356643\t0.0684751558744177\t0.0501185128744177\n",
      "0.316433566\t0.01695799596479275\t0.29947557003520725\n",
      "0.049825175\t0.06462801625060202\t0.014802841250602022\n",
      "0.176573427\t0.19372325664956924\t0.017149829649569237\n",
      "0.020104895\t0.05382109297679828\t0.033716197976798284\n",
      "0.017482517\t0.048018637436241254\t0.030536120436241255\n",
      "0.02972028\t0.25961563693951606\t0.22989535693951607\n",
      "0.047202797\t0.2565036448393136\t0.2093008478393136\n",
      "0.057692308\t0.10149303743805449\t0.04380072943805449\n",
      "0.012237762\t0.03489936957919476\t0.022661607579194762\n",
      "0.048951049\t0.12842454509263712\t0.07947349609263712\n",
      "0.015734266\t-0.00014703296956179723\t0.015881298969561797\n",
      "0.026223776\t0.1255817760922912\t0.0993580000922912\n",
      "0.047202797\t0.2272848428458904\t0.1800820458458904\n",
      "0.005244755\t0.10462985732487401\t0.099385102324874\n",
      "0.012237762\t0.10462985732487401\t0.09239209532487401\n",
      "0.013986014\t0.10462985732487401\t0.090643843324874\n",
      "0.120629371\t0.046605562813995347\t0.07402380818600465\n",
      "0.221153846\t0.2167536238637185\t0.004400222136281495\n",
      "0.017482517\t0.0020736643728736792\t0.01540885262712632\n",
      "0.022727273\t-0.031142673225612802\t0.0538699462256128\n",
      "0.050699301\t-0.06956746981868117\t0.12026677081868117\n",
      "0.026223776\t-0.060843418679682015\t0.08706719467968202\n",
      "0.038461538\t0.12599255186283412\t0.08753101386283411\n",
      "0.041083916\t0.15336763834311173\t0.11228372234311174\n",
      "0.068181818\t0.12874815943662657\t0.060566341436626564\n",
      "0.027972028\t-0.15121999529794705\t0.17919202329794706\n",
      "0.008741259\t-0.006342307295048366\t0.015083566295048366\n",
      "0.020104895\t0.00012971631559964558\t0.019975178684400356\n",
      "0.02534965\t-0.031054129546607218\t0.05640377954660722\n",
      "0.052447552\t-0.03331821149627162\t0.08576576349627163\n",
      "0.159965035\t0.42832966406262984\t0.2683646290626298\n",
      "0.11013986\t0.16385561789590067\t0.05371575789590066\n",
      "0.401223776\t0.13414399584352665\t0.2670797801564733\n",
      "0.236888112\t0.31330308710502236\t0.07641497510502235\n",
      "0.0\t-0.015767086263606275\t0.015767086263606275\n",
      "0.034090909\t0.10777485804529122\t0.07368394904529121\n",
      "0.006118881\t-0.014782153241941737\t0.020901034241941736\n",
      "0.022727273\t0.0028393989255903612\t0.019887874074409638\n",
      "0.004370629\t-0.043922576420218934\t0.048293205420218935\n",
      "0.01048951\t0.015276643624186154\t0.004787133624186153\n",
      "0.027097902\t-0.03312226658947304\t0.06022016858947304\n",
      "0.024475524\t0.00036240688934416343\t0.024113117110655835\n",
      "0.061188811\t0.2584173575443113\t0.19722854654431127\n",
      "0.015734266\t0.025159832902292248\t0.009425566902292248\n",
      "0.052447552\t0.18868038946211751\t0.1362328374621175\n",
      "0.111013986\t0.1908234370188514\t0.07980945101885141\n",
      "0.01048951\t0.0038759459735814294\t0.006613564026418571\n",
      "0.018356643\t0.007801657033443057\t0.010554985966556941\n",
      "0.043706294\t0.10201462101302065\t0.058308327013020654\n",
      "0.064685315\t0.2743124774050945\t0.20962716240509452\n",
      "0.008741259\t0.11822820865360982\t0.10948694965360982\n",
      "0.022727273\t0.1359061107803345\t0.1131788377803345\n",
      "0.041958042\t0.22988706440038473\t0.18792902240038473\n",
      "0.020979021\t-0.34424769370081676\t0.36522671470081675\n",
      "0.02972028\t0.012983925410212566\t0.016736354589787436\n",
      "0.047202797\t0.11837683440740876\t0.07117403740740877\n",
      "0.052447552\t0.206391999487245\t0.15394444748724498\n",
      "0.059440559\t0.2814856383352802\t0.22204507933528017\n",
      "0.091783217\t0.2170634811212208\t0.1252802641212208\n",
      "0.086538462\t0.08647900658906095\t5.9455410939046605e-5\n",
      "0.236888112\t0.3427782471657146\t0.10589013516571458\n",
      "0.440559441\t0.10156959369755324\t0.33898984730244675\n",
      "0.27972028\t0.34286507721718745\t0.06314479721718746\n",
      "0.001748252\t-0.016587871536443102\t0.0183361235364431\n",
      "0.009615385\t0.043151797706471554\t0.03353641270647155\n",
      "0.015734266\t0.08826896561132079\t0.0725346996113208\n",
      "0.031468531\t0.10935279961442512\t0.07788426861442513\n",
      "0.039335664\t-0.05891701819476755\t0.09825268219476754\n",
      "0.082167832\t0.1074605442371288\t0.025292712237128798\n",
      "0.18006993\t0.15884507132983572\t0.02122485867016427\n",
      "0.020979021\t0.037712356097193866\t0.016733335097193866\n",
      "0.016608392\t0.0391075741921362\t0.022499182192136202\n",
      "0.038461538\t0.26449701897207156\t0.22603548097207155\n",
      "0.022727273\t-0.0020688911265130533\t0.024796164126513053\n",
      "0.047202797\t0.10500359715733003\t0.05780080015733003\n",
      "0.0\t-0.0017784948321733773\t0.0017784948321733773\n",
      "0.013986014\t0.003722783104732244\t0.010263230895267756\n",
      "0.045454545\t0.07046191324690158\t0.025007368246901585\n",
      "0.060314685\t0.10139316372192259\t0.041078478721922586\n",
      "0.159090909\t0.04139144236914351\t0.1176994666308565\n",
      "0.211538462\t0.358879818621116\t0.147341356621116\n",
      "0.055944056\t0.03656393763116543\t0.01938011836883457\n",
      "0.176573427\t0.3808552971904947\t0.2042818701904947\n",
      "0.341783217\t0.15718313553589072\t0.18460008146410925\n",
      "1.0\t0.4329675206638437\t0.5670324793361563\n",
      "0.006993007\t0.057185989868679815\t0.05019298286867981\n",
      "0.013111888\t0.057185989868679815\t0.04407410186867981\n",
      "0.034965035\t0.13895681716861535\t0.10399178216861535\n",
      "0.053321678\t0.15351313597315372\t0.10019145797315372\n"
     ]
    }
   ],
   "source": [
    "println(\"Zbiór uczący\")\n",
    "println(\"y\\t\\ty przewidywane\\t\\tbłąd\")\n",
    "for i=1:2:209\n",
    "    p = netResult(x[i], Wh, Wo, y[i])\n",
    "    print(y[i][1])\n",
    "    print(\"\\t\")\n",
    "    print(p[1])\n",
    "    print(\"\\t\")\n",
    "    println(abs(p[1] - y[i][1]))\n",
    "end\n",
    "println()\n",
    "println(\"Zbiór testowy\")\n",
    "for i=2:2:209\n",
    "    p = netResult(x[i], Wh, Wo, y[i])\n",
    "    print(y[i][1])\n",
    "    print(\"\\t\")\n",
    "    print(p[1])\n",
    "    print(\"\\t\")\n",
    "    println(abs(p[1] - y[i][1]))\n",
    "end"
   ]
  },
  {
   "cell_type": "code",
   "execution_count": null,
   "metadata": {},
   "outputs": [],
   "source": []
  }
 ],
 "metadata": {
  "kernelspec": {
   "display_name": "Julia 1.6.1",
   "language": "julia",
   "name": "julia-1.6"
  },
  "language_info": {
   "file_extension": ".jl",
   "mimetype": "application/julia",
   "name": "julia",
   "version": "1.6.1"
  }
 },
 "nbformat": 4,
 "nbformat_minor": 4
}
