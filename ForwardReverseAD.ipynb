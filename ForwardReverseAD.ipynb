{
 "cells": [
  {
   "cell_type": "markdown",
   "metadata": {},
   "source": [
    "## Przykładowe funkcje i parametry i wykorzystywane paczki"
   ]
  },
  {
   "cell_type": "code",
   "execution_count": null,
   "metadata": {},
   "outputs": [],
   "source": [
    "f(x) = sin.(x) .* sqrt.(x)\n",
    "ReLu(x) = max.(zero.(x),x)\n",
    "σ(x) = one.(x)./(one.(x).+exp.(-x))\n",
    "softmax(x) = exp.(x) ./ sum(exp.(x))\n",
    "\n",
    "x1 = rand(Float64, 10);\n",
    "x2 = rand(Float64, 100);\n",
    "\n",
    "using BenchmarkTools\n",
    "using ForwardDiff"
   ]
  },
  {
   "cell_type": "markdown",
   "metadata": {},
   "source": [
    "# Różniczkowanie w przód"
   ]
  },
  {
   "cell_type": "code",
   "execution_count": null,
   "metadata": {},
   "outputs": [],
   "source": [
    "struct Dual{T <:Number} <:Number\n",
    "    v::T\n",
    "    dv::T\n",
    "end"
   ]
  },
  {
   "cell_type": "code",
   "execution_count": null,
   "metadata": {},
   "outputs": [],
   "source": [
    "import Base: +, -, *, /\n",
    "     -(x::Dual) = Dual(-x.v, -x.dv)\n",
    "     +(x::Dual, y::Dual) = Dual( x.v + y.v, x.dv + y.dv)\n",
    "     -(x::Dual, y::Dual) = Dual( x.v - y.v, x.dv - y.dv)\n",
    "     *(x::Dual, y::Dual) = Dual( x.v * y.v, x.dv * y.v + x.v * y.dv)\n",
    "     /(x::Dual, y::Dual) = Dual( x.v / y.v, (x.dv * y.v - x.v * y.dv)/y.v^2)\n",
    " \n",
    "import Base: abs, sin, cos, tan, exp, sqrt, isless\n",
    "    abs(x::Dual) = Dual(abs(x.v),sign(x.v)*x.dv)\n",
    "    sin(x::Dual) = Dual(sin(x.v), cos(x.v)*x.dv)\n",
    "    cos(x::Dual) = Dual(cos(x.v),-sin(x.v)*x.dv)\n",
    "    tan(x::Dual) = Dual(tan(x.v), one(x.v)*x.dv + tan(x.v)^2*x.dv)\n",
    "    exp(x::Dual) = Dual(exp(x.v), exp(x.v)*x.dv)\n",
    "    sqrt(x::Dual) = Dual(sqrt(x.v),.5/sqrt(x.v) * x.dv)\n",
    "    isless(x::Dual, y::Dual) = x.v < y.v;"
   ]
  },
  {
   "cell_type": "code",
   "execution_count": null,
   "metadata": {},
   "outputs": [],
   "source": [
    "import Base: show\n",
    "show(io::IO, x::Dual) = print(io, \"(\", x.v, \") + [\", x.dv, \"ϵ]\");\n",
    "value(x::Dual) = x.v;\n",
    "partials(x::Dual) = x.dv;"
   ]
  },
  {
   "cell_type": "code",
   "execution_count": null,
   "metadata": {},
   "outputs": [],
   "source": [
    "import Base: convert, promote_rule\n",
    "convert(::Type{Dual{T}}, x::Dual) where T =\n",
    " Dual(convert(T, x.v), convert(T, x.dv))\n",
    "convert(::Type{Dual{T}}, x::Number) where T =\n",
    " Dual(convert(T, x), zero(T))\n",
    "promote_rule(::Type{Dual{T}}, ::Type{R}) where {T,R} =\n",
    " Dual{promote_type(T,R)}"
   ]
  },
  {
   "cell_type": "markdown",
   "metadata": {},
   "source": [
    "## Funkcja obliczająca macierz Jacobiego "
   ]
  },
  {
   "cell_type": "code",
   "execution_count": null,
   "metadata": {},
   "outputs": [],
   "source": [
    "J = function jacobian(f, args::Vector{T}) where {T <:Number} # przyjmuje jako argumenty funkcje oraz wektor argumentów\n",
    "    jacobian_columns = Matrix{T}[]\n",
    "    for i=1:length(args)\n",
    "        x = Dual{T}[] # tworzy nowy wektor x dla liczb dualnych\n",
    "        for j=1:length(args)\n",
    "            seed = (i == j)\n",
    "            # dodaje do wektora x liczbe dualną z zarodkiem lub bez w zależności od wartości seed \n",
    "            push!(x, seed ? Dual(args[j], one(args[j])) : Dual(args[j],zero(args[j])))\n",
    "            \n",
    "            #println(\"x to = \",x)\n",
    "            #println(\"iteracja i = \",i,\" j = \",j)\n",
    "        end\n",
    "        #println(f(x))\n",
    "        column = partials.([f(x)...]) # tworzy wektor pochodnych        \n",
    "        push!(jacobian_columns, column[:,:]) # i dodaje do macierzy wynikowej\n",
    "        \n",
    "    end\n",
    "    hcat(jacobian_columns...) # zamienia w macierz układając zbiór wektorów w kolumny \n",
    "end"
   ]
  },
  {
   "cell_type": "markdown",
   "metadata": {},
   "source": [
    "## Test macierzy Jacobiego dla różniczkowania w przód"
   ]
  },
  {
   "cell_type": "code",
   "execution_count": null,
   "metadata": {},
   "outputs": [],
   "source": [
    "println(\"Test f dla wektora x1\")\n",
    "@btime begin\n",
    "J(f, x1)\n",
    "end\n",
    "\n",
    "println(\"Sprawdzenie ForwardDiff\")\n",
    "@btime begin\n",
    "ForwardDiff.jacobian(f, x1)   \n",
    "end"
   ]
  },
  {
   "cell_type": "code",
   "execution_count": null,
   "metadata": {},
   "outputs": [],
   "source": [
    "println(\"Test f dla wektora x2\")\n",
    "@btime begin\n",
    "J(f, x2)\n",
    "end\n",
    "\n",
    "println(\"Sprawdzenie ForwardDiff\")\n",
    "@btime begin\n",
    "ForwardDiff.jacobian(f, x2)   \n",
    "end"
   ]
  },
  {
   "cell_type": "code",
   "execution_count": null,
   "metadata": {},
   "outputs": [],
   "source": [
    "println(\"Test ReLu dla wektora x1\")\n",
    "@btime begin\n",
    "J(ReLu, x1)\n",
    "end\n",
    "\n",
    "println(\"Sprawdzenie ForwardDiff\")\n",
    "@btime begin\n",
    "ForwardDiff.jacobian(ReLu, x1)\n",
    "end"
   ]
  },
  {
   "cell_type": "code",
   "execution_count": null,
   "metadata": {},
   "outputs": [],
   "source": [
    "println(\"Test ReLu dla wektora x2\")\n",
    "@btime begin\n",
    "J(ReLu, x2)\n",
    "end\n",
    "\n",
    "println(\"Sprawdzenie ForwardDiff\")\n",
    "@btime begin\n",
    "ForwardDiff.jacobian(ReLu, x2)   \n",
    "end"
   ]
  },
  {
   "cell_type": "code",
   "execution_count": null,
   "metadata": {},
   "outputs": [],
   "source": [
    "println(\"Test σ dla wektora x1\")\n",
    "@btime begin\n",
    "J(σ, x1)\n",
    "end\n",
    "\n",
    "println(\"Sprawdzenie ForwardDiff\")\n",
    "@btime begin\n",
    "ForwardDiff.jacobian(σ, x1)   \n",
    "end"
   ]
  },
  {
   "cell_type": "code",
   "execution_count": null,
   "metadata": {},
   "outputs": [],
   "source": [
    "println(\"Test σ dla wektora x2\")\n",
    "@btime begin\n",
    "J(σ, x2)\n",
    "end\n",
    "\n",
    "println(\"Sprawdzenie ForwardDiff\")\n",
    "@btime begin\n",
    "ForwardDiff.jacobian(σ, x2)   \n",
    "end"
   ]
  },
  {
   "cell_type": "markdown",
   "metadata": {},
   "source": [
    "# Różniczkowanie w tył"
   ]
  },
  {
   "cell_type": "code",
   "execution_count": null,
   "metadata": {},
   "outputs": [],
   "source": [
    "struct Operator{T}\n",
    "    f::T\n",
    "end\n",
    "\n",
    "abstract type Node end\n",
    "abstract type LeafNode <: Node end\n",
    "\n",
    "mutable struct Variable{T} <: LeafNode\n",
    "    value::T\n",
    "    grad::T\n",
    "    \n",
    "    Variable(val::T) where T = new{T}(val, zero(val))\n",
    "    Variable(val::T, grad::T) where T = new{T}(val, grad)\n",
    "end\n",
    "\n",
    "struct ComputableNode{OT, AT} <: Node\n",
    "    op::OT # operacja jaka będzie wykonywana na node\n",
    "    args::AT # argumenty operacji\n",
    "end\n",
    "\n",
    "mutable struct CachedNode{NT, OUT} <: Node\n",
    "    node::NT # ComputableNode\n",
    "    out::OUT # wynik operacji na zadanych argumentach w computable Node\n",
    "end"
   ]
  },
  {
   "cell_type": "code",
   "execution_count": null,
   "metadata": {},
   "outputs": [],
   "source": [
    "# TODO: mapowanie int/float na Variable"
   ]
  },
  {
   "cell_type": "code",
   "execution_count": null,
   "metadata": {},
   "outputs": [],
   "source": [
    "# rejestracja operacji z wyrażenia wejściowego\n",
    "function register(op, args...)\n",
    "    concreteOp = Operator(op)\n",
    "    node = ComputableNode(concreteOp, args)\n",
    "    out = forward(node)\n",
    "    vvv = CachedNode(node, out)\n",
    "    CachedNode(node, out)\n",
    "end\n",
    "\n",
    "import Base: +, -, *, /\n",
    "    -(x::Node) = register(-, x)\n",
    "    +(x::Node, y::Node) = register(+, x, y)\n",
    "    -(x::Node, y::Node) = register(-, x, y)\n",
    "    *(x::Node, y::Node) = register(*, x, y)\n",
    "    /(x::Node, y::Node) = register(/, x, y)\n",
    "import Base: abs, sin, cos, tan, exp, sqrt, zero, one, max, min, length, sum\n",
    "    abs(x::Node) = register(abs, x)\n",
    "    sin(x::Node) = register(sin, x)\n",
    "    cos(x::Node) = register(cos, x)\n",
    "    tan(x::Node) = register(tan, x)\n",
    "    exp(x::Node) = register(exp, x)\n",
    "    sqrt(x::Node) = register(sqrt, x)\n",
    "    zero(x::Node) = register(zero, x)\n",
    "    one(x::Node) = register(one, x)\n",
    "    max(x::Node, y::Node) = register(max, x, y)\n",
    "    min(x::Node, y::Node) = register(min, x, y)\n",
    "    length(x::Node) = register(length, x)\n",
    "    sum(x::Node) = register(sum, x)"
   ]
  },
  {
   "cell_type": "code",
   "execution_count": null,
   "metadata": {},
   "outputs": [],
   "source": [
    "forward(cached::CachedNode) = cached.out = forward(cached.node)\n",
    "forward(node::ComputableNode) = forward(node.op, map(forward, node.args)...) # dokonujemy mapowania funkcją forward aby dobrac się do value zmiennych variable\n",
    "forward(op::Operator, args...) = op.f(args...)  # finalne wykonanie operacji na zadanych argumentach i obliczenie wyniku\n",
    "forward(var::Variable) = var.value # wykorzystywane do mapowania"
   ]
  },
  {
   "cell_type": "code",
   "execution_count": null,
   "metadata": {},
   "outputs": [],
   "source": [
    "function backward(cached::CachedNode, grad)\n",
    "    grad_inputs = gradient(cached, grad)\n",
    "    for (each, each_grad) in zip(cached.node.args, grad_inputs)\n",
    "        backward(each, each_grad)\n",
    "    end\n",
    "end\n",
    "\n",
    "gradient(cached::CachedNode, grad) =\n",
    "    gradient(cached.node.op, grad, map(value, cached.node.args)...)\n",
    "\n",
    "gradient(op::Operator, grad, args...) =\n",
    "    gradient(op.f, grad, args...)\n",
    "\n",
    "value(cached::CachedNode) = cached.out\n",
    "value(var::Variable) = var.value\n",
    "\n",
    "gradient(::typeof(-), grad, x) = (-grad, )\n",
    "gradient(::typeof(+), grad, x, y) = (grad, grad)\n",
    "gradient(::typeof(-), grad, x, y) = (grad, -grad)\n",
    "gradient(::typeof(*), grad, x, y) = (grad * y, grad * x) # (pochodna po x, pochodna po y)\n",
    "gradient(::typeof(/), grad, x, y) = (grad * 1/y, grad * -(x / (y * y)))\n",
    "gradient(::typeof(abs), grad, x) = (grad * x/abs(x), ) \n",
    "gradient(::typeof(sin), grad, x) = (grad * cos(x), ) # dodajemy ',' aby cały czas to był tuple\n",
    "gradient(::typeof(cos), grad, x) = (grad * -sin(x), )\n",
    "gradient(::typeof(tan), grad, x) = (grad * (tan(x)*tan(x)+1), )\n",
    "gradient(::typeof(exp), grad, x) = (grad * exp(x), )\n",
    "gradient(::typeof(sqrt), grad, x) = (grad * 1/(2*sqrt(x)), )\n",
    "gradient(::typeof(min), grad, x, y) = (isless(x, y) ? grad * one(x) : grad * zero(x), \n",
    "                                          isless(x, y) ? grad * zero(y) : grad * one(y))\n",
    "gradient(::typeof(max), grad, x, y) = (isless(x, y) ? grad * zero(x) : grad * one(x), \n",
    "                                          isless(x, y) ? grad * one(y) : grad * zero(y))\n",
    "gradient(::typeof(zero), grad, x) = (grad * zero(x), ) # zero czy one to po prostu funkcje stałe\n",
    "gradient(::typeof(one), grad, x) = (grad * zero(x), )\n",
    "gradient(::typeof(length), grad, x) = (grad * length(x), )\n",
    "gradient(::typeof(sum), grad, x) = (grad * sum(x), )\n",
    "\n",
    "function backward(var::Variable, grad)\n",
    "    var.grad += grad\n",
    "end"
   ]
  },
  {
   "cell_type": "code",
   "execution_count": null,
   "metadata": {},
   "outputs": [],
   "source": [
    "function jacobian(cached::CachedNode)\n",
    "    jjj = []\n",
    "    for each in cached.node.args\n",
    "        #println(\"------\")\n",
    "        #println(each)\n",
    "        x = jacobian(each)\n",
    "        #println(x)\n",
    "        push!(jjj, x)\n",
    "        #println(jjj)\n",
    "    end\n",
    "    return jjj\n",
    "end\n",
    "\n",
    "function jacobian(var::Variable)\n",
    "    #println(\"_________\")\n",
    "    #println(var.grad)\n",
    "    return var.grad\n",
    "end"
   ]
  },
  {
   "cell_type": "code",
   "execution_count": null,
   "metadata": {},
   "outputs": [],
   "source": [
    "J2 = function jacobian2(f, args::Vector{T}) where {T <:Number} # przyjmuje jako argumenty funkcje oraz wektor argumentów\n",
    "    x = map(x -> Variable(x), args)\n",
    "    y = f(x)\n",
    "    backward.(y, 1.0)\n",
    "    diagonal = jacobian.(y)\n",
    "    size = length(diagonal)\n",
    "    Jacobian = zeros(size, size)\n",
    "    for i=1:size\n",
    "        Jacobian[i,i] = getJacobianValue(diagonal[i])\n",
    "    end\n",
    "    #println(\"jacobian:\")\n",
    "    #println(Jacobian)\n",
    "end\n",
    "\n",
    "function getJacobianValue(val::Array{Any})\n",
    "    return getJacobianValue(val[1])\n",
    "end\n",
    "\n",
    "function getJacobianValue(val::Any)\n",
    "    return val\n",
    "end"
   ]
  },
  {
   "cell_type": "markdown",
   "metadata": {},
   "source": [
    "## Testy macierzy Jacobiego dla różniczkowania w tył"
   ]
  },
  {
   "cell_type": "code",
   "execution_count": null,
   "metadata": {},
   "outputs": [],
   "source": [
    "println(\"Test f dla wektora x1\")\n",
    "@btime begin\n",
    "J2(f, x1)\n",
    "end\n",
    "\n",
    "println(\"Sprawdzenie ReverseDiff\")\n",
    "using ReverseDiff\n",
    "@btime begin\n",
    "ReverseDiff.jacobian(f, x1)\n",
    "end"
   ]
  },
  {
   "cell_type": "code",
   "execution_count": null,
   "metadata": {},
   "outputs": [],
   "source": [
    "println(\"Test f dla wektora x2\")\n",
    "@btime begin\n",
    "J2(f, x2)\n",
    "end\n",
    "\n",
    "println(\"Sprawdzenie ReverseDiff\")\n",
    "using ReverseDiff\n",
    "@btime begin\n",
    "ReverseDiff.jacobian(f, x2)\n",
    "end"
   ]
  },
  {
   "cell_type": "code",
   "execution_count": null,
   "metadata": {},
   "outputs": [],
   "source": [
    "println(\"Test ReLu dla wektora x1\")\n",
    "@btime begin\n",
    "J2(ReLu, x1)\n",
    "end\n",
    "\n",
    "println(\"Sprawdzenie ReverseDiff\")\n",
    "using ReverseDiff\n",
    "@btime begin\n",
    "ReverseDiff.jacobian(ReLu, x1)\n",
    "end"
   ]
  },
  {
   "cell_type": "code",
   "execution_count": null,
   "metadata": {},
   "outputs": [],
   "source": [
    "println(\"Test ReLu dla wektora x2\")\n",
    "@btime begin\n",
    "J2(ReLu, x2)\n",
    "end\n",
    "\n",
    "println(\"Sprawdzenie ReverseDiff\")\n",
    "using ReverseDiff\n",
    "@btime begin\n",
    "ReverseDiff.jacobian(ReLu, x2)\n",
    "end"
   ]
  },
  {
   "cell_type": "code",
   "execution_count": null,
   "metadata": {},
   "outputs": [],
   "source": [
    "println(\"Test σ dla wektora x1\")\n",
    "@btime begin\n",
    "J2(σ, x1)\n",
    "end\n",
    "\n",
    "println(\"Sprawdzenie ReverseDiff\")\n",
    "using ReverseDiff\n",
    "@btime begin\n",
    "ReverseDiff.jacobian(σ, x1)\n",
    "end"
   ]
  },
  {
   "cell_type": "code",
   "execution_count": null,
   "metadata": {},
   "outputs": [],
   "source": [
    "println(\"Test σ dla wektora x2\")\n",
    "@btime begin\n",
    "J2(σ, x2)\n",
    "end\n",
    "\n",
    "println(\"Sprawdzenie ReverseDiff\")\n",
    "using ReverseDiff\n",
    "@btime begin\n",
    "ReverseDiff.jacobian(σ, x2)\n",
    "end"
   ]
  }
 ],
 "metadata": {
  "kernelspec": {
   "display_name": "Julia 1.6.1",
   "language": "julia",
   "name": "julia-1.6"
  },
  "language_info": {
   "file_extension": ".jl",
   "mimetype": "application/julia",
   "name": "julia",
   "version": "1.6.1"
  }
 },
 "nbformat": 4,
 "nbformat_minor": 4
}
