{
 "cells": [
  {
   "cell_type": "code",
   "execution_count": 2,
   "metadata": {},
   "outputs": [],
   "source": [
    "# TODO: Dodać komentarze do kodu i zrobić jego refactor\n",
    "# W przód\n",
    "struct Dual{T <:Number} <:Number\n",
    "    v::T\n",
    "    dv::T\n",
    "end"
   ]
  },
  {
   "cell_type": "code",
   "execution_count": 3,
   "metadata": {},
   "outputs": [],
   "source": [
    "import Base: +, -, *, /\n",
    "     -(x::Dual) = Dual(-x.v, -x.dv)\n",
    "     +(x::Dual, y::Dual) = Dual( x.v + y.v, x.dv + y.dv)\n",
    "     -(x::Dual, y::Dual) = Dual( x.v - y.v, x.dv - y.dv)\n",
    "     *(x::Dual, y::Dual) = Dual( x.v * y.v, x.dv * y.v + x.v * y.dv)\n",
    "     /(x::Dual, y::Dual) = Dual( x.v / y.v, (x.dv * y.v - x.v * y.dv)/y.v^2)\n",
    "import Base: abs, sin, cos, tan, exp, sqrt, isless\n",
    "    abs(x::Dual) = Dual(abs(x.v),sign(x.v)*x.dv)\n",
    "    sin(x::Dual) = Dual(sin(x.v), cos(x.v)*x.dv)\n",
    "    cos(x::Dual) = Dual(cos(x.v),-sin(x.v)*x.dv)\n",
    "    tan(x::Dual) = Dual(tan(x.v), one(x.v)*x.dv + tan(x.v)^2*x.dv)\n",
    "    exp(x::Dual) = Dual(exp(x.v), exp(x.v)*x.dv)\n",
    "    sqrt(x::Dual) = Dual(sqrt(x.v),.5/sqrt(x.v) * x.dv)\n",
    "    isless(x::Dual, y::Dual) = x.v < y.v;"
   ]
  },
  {
   "cell_type": "code",
   "execution_count": 4,
   "metadata": {},
   "outputs": [],
   "source": [
    "import Base: show\n",
    "show(io::IO, x::Dual) = print(io, \"(\", x.v, \") + [\", x.dv, \"ϵ]\");\n",
    "value(x::Dual) = x.v;\n",
    "partials(x::Dual) = x.dv;"
   ]
  },
  {
   "cell_type": "code",
   "execution_count": 6,
   "metadata": {},
   "outputs": [
    {
     "data": {
      "text/plain": [
       "promote_rule (generic function with 125 methods)"
      ]
     },
     "execution_count": 6,
     "metadata": {},
     "output_type": "execute_result"
    }
   ],
   "source": [
    "import Base: convert, promote_rule\n",
    "convert(::Type{Dual{T}}, x::Dual) where T =\n",
    " Dual(convert(T, x.v), convert(T, x.dv))\n",
    "convert(::Type{Dual{T}}, x::Number) where T =\n",
    " Dual(convert(T, x), zero(T))\n",
    "promote_rule(::Type{Dual{T}}, ::Type{R}) where {T,R} =\n",
    " Dual{promote_type(T,R)}"
   ]
  },
  {
   "cell_type": "code",
   "execution_count": 8,
   "metadata": {},
   "outputs": [
    {
     "data": {
      "text/plain": [
       "(-0.13235175009777303) + [9.912028118634735ϵ]"
      ]
     },
     "execution_count": 8,
     "metadata": {},
     "output_type": "execute_result"
    }
   ],
   "source": [
    "# TODO: Przetestować dla funkcji ReLU, soft-max, podstawowych funkcji matematycznych\n",
    "f(x) = sin(x*x)\n",
    "ϵ = Dual(0., 1.)\n",
    "x = 5.0 + ϵ\n",
    "y = f(x)"
   ]
  },
  {
   "cell_type": "code",
   "execution_count": 9,
   "metadata": {},
   "outputs": [
    {
     "data": {
      "text/plain": [
       "(-0.13235175009777303, 9.912028118634735)"
      ]
     },
     "execution_count": 9,
     "metadata": {},
     "output_type": "execute_result"
    }
   ],
   "source": [
    "sin(25.0), 10cos(25.0)"
   ]
  },
  {
   "cell_type": "code",
   "execution_count": 11,
   "metadata": {},
   "outputs": [
    {
     "data": {
      "text/plain": [
       "jacobian (generic function with 1 method)"
      ]
     },
     "execution_count": 11,
     "metadata": {},
     "output_type": "execute_result"
    }
   ],
   "source": [
    "# TODO: Ogarnąć wyznaczenie macierzy jakobiego\n",
    "J = function jacobian(f, args::Vector{T}) where {T <:Number}\n",
    "    jacobian_columns = Matrix{T}[]\n",
    "    for i=1:length(args)\n",
    "        x = Dual{T}[]\n",
    "        for j=1:length(args)\n",
    "            seed = (i == j)\n",
    "            push!(x, seed ?\n",
    "            Dual(args[j], one(args[j])) :\n",
    "            Dual(args[j],zero(args[j])) )\n",
    "        end\n",
    "        column = partials.([f(x)...])\n",
    "        push!(jacobian_columns, column[:,:])\n",
    "    end\n",
    "    hcat(jacobian_columns...)\n",
    "end"
   ]
  },
  {
   "cell_type": "code",
   "execution_count": null,
   "metadata": {},
   "outputs": [],
   "source": [
    "# TODO: potestować metodę (w tym dla funkcji Rosenbrocka), zapisać wyniki"
   ]
  },
  {
   "cell_type": "code",
   "execution_count": 1,
   "metadata": {},
   "outputs": [],
   "source": [
    "# w tył\n",
    "# TODO: Zaimplementować Operator, naprawić resztę błędów w rózniczkowaniu w tył\n",
    "struct Operator{T}\n",
    "    f::T\n",
    "end\n",
    "\n",
    "abstract type Node end\n",
    "abstract type LeafNode <: Node end\n",
    "\n",
    "mutable struct Variable{T} <: LeafNode\n",
    "    value::T\n",
    "    grad::T\n",
    "    \n",
    "    Variable(val::T) where T = new{T}(val, zero(val))\n",
    "    Variable(val::T, grad::T) where T = new{T}(val, grad)\n",
    "end\n",
    "\n",
    "struct ComputableNode{OT, AT} <: Node\n",
    "    op::OT # operacja jaka będzie wykonywana na node\n",
    "    args::AT # argumenty operacji\n",
    "end\n",
    "\n",
    "mutable struct CachedNode{NT, OUT} <: Node\n",
    "    node::NT # ComputableNode\n",
    "    out::OUT # wynik operacji na zadanych argumentach w computable Node\n",
    "end"
   ]
  },
  {
   "cell_type": "code",
   "execution_count": 31,
   "metadata": {},
   "outputs": [
    {
     "data": {
      "text/plain": [
       "sin (generic function with 14 methods)"
      ]
     },
     "execution_count": 31,
     "metadata": {},
     "output_type": "execute_result"
    }
   ],
   "source": [
    "# TODO: Dodać więcej przeciążeń\n",
    "function register(op, args...)\n",
    "    concreteOp = Operator(op)\n",
    "    node = ComputableNode(concreteOp, args)\n",
    "    out = forward(node)\n",
    "    CachedNode(node, out)\n",
    "end\n",
    "\n",
    "import Base: +, -, *, /\n",
    "    +(x::Node, y::Node) = register(+, x, y)\n",
    "    -(x::Node, y::Node) = register(-, x, y)\n",
    "    *(x::Node, y::Node) = register(*, x, y)\n",
    "    /(x::Node, y::Node) = register(/, x, y)\n",
    "import Base: sin\n",
    "    sin(x::Node) = register(sin, x)"
   ]
  },
  {
   "cell_type": "code",
   "execution_count": 29,
   "metadata": {},
   "outputs": [
    {
     "data": {
      "text/plain": [
       "forward (generic function with 4 methods)"
      ]
     },
     "execution_count": 29,
     "metadata": {},
     "output_type": "execute_result"
    }
   ],
   "source": [
    "forward(cached::CachedNode) = cached.out = forward(cached.node)\n",
    "forward(node::ComputableNode) = forward(node.op, map(forward, node.args)...) # dokonujemy mapowania funkcją forward aby dobrac się do value zmiennych variable\n",
    "forward(op::Operator, args...) = op.f(args...)  # finalne wykonanie operacji na zadanych argumentach i obliczenie wyniku\n",
    "forward(var::Variable) = var.value # wykorystywane do mapowania"
   ]
  },
  {
   "cell_type": "code",
   "execution_count": 50,
   "metadata": {},
   "outputs": [
    {
     "data": {
      "text/plain": [
       "backward (generic function with 2 methods)"
      ]
     },
     "execution_count": 50,
     "metadata": {},
     "output_type": "execute_result"
    }
   ],
   "source": [
    "function backward(cached::CachedNode, grad)\n",
    "    grad_inputs = gradient(cached, grad)\n",
    "    for (each, each_grad) in zip(cached.node.args, grad_inputs)\n",
    "        backward(each, each_grad)\n",
    "    end\n",
    "end\n",
    "\n",
    "gradient(cached::CachedNode, grad) =\n",
    "     gradient(cached.node.op, grad, map(value, cached.node.args)...)\n",
    "\n",
    "gradient(op::Operator, grad, args...) =\n",
    "     gradient(op.f, grad, args...)\n",
    "\n",
    "value(cached::CachedNode) = cached.out\n",
    "value(var::Variable) = var.value\n",
    "\n",
    "gradient(::typeof(*), grad, x, y) = (grad * y, grad * x)\n",
    "gradient(::typeof(sin), grad, x) = (grad * cos(x), )\n",
    "\n",
    "function backward(var::Variable, grad)\n",
    "    var.grad += grad\n",
    "    println(var)    \n",
    "end"
   ]
  },
  {
   "cell_type": "code",
   "execution_count": 51,
   "metadata": {},
   "outputs": [
    {
     "name": "stdout",
     "output_type": "stream",
     "text": [
      "Variable{Float64}(5.0, 4.956014059317368)\n",
      "Variable{Float64}(5.0, 9.912028118634735)\n"
     ]
    }
   ],
   "source": [
    "# TODO: Przetestować dla funkcji ReLU, soft-max, podstawowych funkcji matematycznych\n",
    "f(x) = sin(x*x)\n",
    "x = Variable(5.0, 0.0)\n",
    "y = f(x)\n",
    "backward(y, 1.0)\n"
   ]
  },
  {
   "cell_type": "code",
   "execution_count": 49,
   "metadata": {},
   "outputs": [
    {
     "name": "stdout",
     "output_type": "stream",
     "text": [
      "ForwardDiff.gradient(h, x) = [9.912028118634735]\n"
     ]
    },
    {
     "data": {
      "text/plain": [
       "1-element Vector{Float64}:\n",
       " 9.912028118634735"
      ]
     },
     "execution_count": 49,
     "metadata": {},
     "output_type": "execute_result"
    }
   ],
   "source": [
    "# checking results\n",
    "h(x) = sin(x[1]*x[1])\n",
    "x = [5.0]\n",
    "@show ForwardDiff.gradient(h,x)"
   ]
  },
  {
   "cell_type": "code",
   "execution_count": 45,
   "metadata": {},
   "outputs": [
    {
     "name": "stdout",
     "output_type": "stream",
     "text": [
      "ForwardDiff.gradient(h, x) = [26.35476496103098 16.663053156992287]\n"
     ]
    },
    {
     "data": {
      "text/plain": [
       "5-element Vector{Float64}:\n",
       " 0.7268594501134679\n",
       " 0.9999292941038934\n",
       " 0.6446997447376362\n",
       " 1.0110284824620377\n",
       " 0.9700779153620447"
      ]
     },
     "execution_count": 45,
     "metadata": {},
     "output_type": "execute_result"
    }
   ],
   "source": [
    "# EXAMPLE OF USING JULIA DIFF\n",
    "using ForwardDiff\n",
    "h(x) = sin(x[1]) + x[1] * x[2] + sinh(x[1] * x[2]) # multivariate.\n",
    "x = [1.4 2.2]\n",
    "@show ForwardDiff.gradient(h,x) # use AD, seeds from x\n",
    "\n",
    "#Or, can use complicated functions of many variables\n",
    "f(x) = sum(sin, x) + prod(tan, x) * sum(sqrt, x)\n",
    "g = (x) -> ForwardDiff.gradient(f, x); # g() is now the gradient\n",
    "g(rand(5)) # gradient at a random point\n",
    "# ForwardDiff.hessian(f,x') # or the hessian"
   ]
  },
  {
   "cell_type": "code",
   "execution_count": 32,
   "metadata": {},
   "outputs": [],
   "source": [
    "#TODO: macierze Jakobiego dla różniczkowania w tył"
   ]
  },
  {
   "cell_type": "code",
   "execution_count": 33,
   "metadata": {},
   "outputs": [],
   "source": [
    "# TODO: potestować metodę (w tym dla funkcji Rosenbrocka), zapisać wyniki"
   ]
  },
  {
   "cell_type": "code",
   "execution_count": null,
   "metadata": {},
   "outputs": [],
   "source": [
    "# TODO: Zrobić krótkie zestawienie metod"
   ]
  }
 ],
 "metadata": {
  "kernelspec": {
   "display_name": "Julia 1.6.1",
   "language": "julia",
   "name": "julia-1.6"
  },
  "language_info": {
   "file_extension": ".jl",
   "mimetype": "application/julia",
   "name": "julia",
   "version": "1.6.1"
  }
 },
 "nbformat": 4,
 "nbformat_minor": 4
}
